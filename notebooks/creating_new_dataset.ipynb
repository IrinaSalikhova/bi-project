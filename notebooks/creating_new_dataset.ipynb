{
 "cells": [
  {
   "cell_type": "markdown",
   "metadata": {},
   "source": [
    "# Data Sampling\n",
    "\n",
    "Data from [Kaggle user ealtman](https://www.kaggle.com/datasets/ealtman2019/credit-card-transactions)\n",
    "\n",
    "The original dataset is massive, with just one file being over 2 gigs.\n",
    "In addition, it is unbalanced with their being mostly non-fraudulant transactions.\n",
    "\n",
    "To remedy this, and make the data under 100 MB for the GitHub upload cap, we'll conserve all fraudulent records but reduce the overall dataset so that 70% are non-fraudulent. This means about 30,000 fraudulent credit transactions and 70,000 random non-fraudulent transactions."
   ]
  },
  {
   "cell_type": "code",
   "execution_count": 1,
   "metadata": {},
   "outputs": [],
   "source": [
    "import pandas as pd\n",
    "\n",
    "df_users = pd.read_csv('../archive/sd254_users.csv', dtype={'merchant_zip':str})\n",
    "df_cards = pd.read_csv('../archive/sd254_cards.csv')\n",
    "df_transactions = pd.read_csv('../archive/credit_card_transactions-ibm_v2.csv')"
   ]
  },
  {
   "cell_type": "code",
   "execution_count": 2,
   "metadata": {},
   "outputs": [
    {
     "name": "stdout",
     "output_type": "stream",
     "text": [
      "Index(['User', 'CARD INDEX', 'Card Brand', 'Card Type', 'Card Number',\n",
      "       'Expires', 'CVV', 'Has Chip', 'Cards Issued', 'Credit Limit',\n",
      "       'Acct Open Date', 'Year PIN last Changed', 'Card on Dark Web'],\n",
      "      dtype='object')\n"
     ]
    },
    {
     "data": {
      "text/plain": [
       "Is Fraud?\n",
       "No     24357143\n",
       "Yes       29757\n",
       "Name: count, dtype: int64"
      ]
     },
     "execution_count": 2,
     "metadata": {},
     "output_type": "execute_result"
    }
   ],
   "source": [
    "print(df_cards.columns)\n",
    "df_transactions['Is Fraud?'].value_counts()"
   ]
  },
  {
   "cell_type": "code",
   "execution_count": 3,
   "metadata": {},
   "outputs": [
    {
     "ename": "AttributeError",
     "evalue": "'DataFrame' object has no attribute 'append'",
     "output_type": "error",
     "traceback": [
      "\u001b[0;31m---------------------------------------------------------------------------\u001b[0m",
      "\u001b[0;31mAttributeError\u001b[0m                            Traceback (most recent call last)",
      "\u001b[0;32m/var/folders/sl/fgdt3jf15xd619t9skb1vv2m0000gn/T/ipykernel_39419/2430824428.py\u001b[0m in \u001b[0;36m?\u001b[0;34m()\u001b[0m\n\u001b[1;32m      1\u001b[0m \u001b[0mdf_yes\u001b[0m \u001b[0;34m=\u001b[0m \u001b[0mdf_transactions\u001b[0m\u001b[0;34m.\u001b[0m\u001b[0mloc\u001b[0m\u001b[0;34m[\u001b[0m\u001b[0mdf_transactions\u001b[0m\u001b[0;34m[\u001b[0m\u001b[0;34m'Is Fraud?'\u001b[0m\u001b[0;34m]\u001b[0m \u001b[0;34m==\u001b[0m \u001b[0;34m\"Yes\"\u001b[0m\u001b[0;34m]\u001b[0m  \u001b[0;31m# ~     30_000 records\u001b[0m\u001b[0;34m\u001b[0m\u001b[0;34m\u001b[0m\u001b[0m\n\u001b[1;32m      2\u001b[0m \u001b[0mdf_no\u001b[0m \u001b[0;34m=\u001b[0m \u001b[0mdf_transactions\u001b[0m\u001b[0;34m.\u001b[0m\u001b[0mloc\u001b[0m\u001b[0;34m[\u001b[0m\u001b[0mdf_transactions\u001b[0m\u001b[0;34m[\u001b[0m\u001b[0;34m'Is Fraud?'\u001b[0m\u001b[0;34m]\u001b[0m \u001b[0;34m==\u001b[0m \u001b[0;34m\"No\"\u001b[0m\u001b[0;34m]\u001b[0m    \u001b[0;31m# ~ 20_000_000 records\u001b[0m\u001b[0;34m\u001b[0m\u001b[0;34m\u001b[0m\u001b[0m\n\u001b[1;32m      3\u001b[0m \u001b[0;34m\u001b[0m\u001b[0m\n\u001b[0;32m----> 4\u001b[0;31m df : pd.DataFrame = df_yes.append(df_no.sample(70_000)\n\u001b[0m\u001b[1;32m      5\u001b[0m )\n",
      "\u001b[0;32m~/miniconda3/lib/python3.10/site-packages/pandas/core/generic.py\u001b[0m in \u001b[0;36m?\u001b[0;34m(self, name)\u001b[0m\n\u001b[1;32m   5985\u001b[0m             \u001b[0;32mand\u001b[0m \u001b[0mname\u001b[0m \u001b[0;32mnot\u001b[0m \u001b[0;32min\u001b[0m \u001b[0mself\u001b[0m\u001b[0;34m.\u001b[0m\u001b[0m_accessors\u001b[0m\u001b[0;34m\u001b[0m\u001b[0;34m\u001b[0m\u001b[0m\n\u001b[1;32m   5986\u001b[0m             \u001b[0;32mand\u001b[0m \u001b[0mself\u001b[0m\u001b[0;34m.\u001b[0m\u001b[0m_info_axis\u001b[0m\u001b[0;34m.\u001b[0m\u001b[0m_can_hold_identifiers_and_holds_name\u001b[0m\u001b[0;34m(\u001b[0m\u001b[0mname\u001b[0m\u001b[0;34m)\u001b[0m\u001b[0;34m\u001b[0m\u001b[0;34m\u001b[0m\u001b[0m\n\u001b[1;32m   5987\u001b[0m         ):\n\u001b[1;32m   5988\u001b[0m             \u001b[0;32mreturn\u001b[0m \u001b[0mself\u001b[0m\u001b[0;34m[\u001b[0m\u001b[0mname\u001b[0m\u001b[0;34m]\u001b[0m\u001b[0;34m\u001b[0m\u001b[0;34m\u001b[0m\u001b[0m\n\u001b[0;32m-> 5989\u001b[0;31m         \u001b[0;32mreturn\u001b[0m \u001b[0mobject\u001b[0m\u001b[0;34m.\u001b[0m\u001b[0m__getattribute__\u001b[0m\u001b[0;34m(\u001b[0m\u001b[0mself\u001b[0m\u001b[0;34m,\u001b[0m \u001b[0mname\u001b[0m\u001b[0;34m)\u001b[0m\u001b[0;34m\u001b[0m\u001b[0;34m\u001b[0m\u001b[0m\n\u001b[0m",
      "\u001b[0;31mAttributeError\u001b[0m: 'DataFrame' object has no attribute 'append'"
     ]
    }
   ],
   "source": [
    "df_yes = df_transactions.loc[df_transactions['Is Fraud?'] == \"Yes\"]  # ~     30_000 records\n",
    "df_no = df_transactions.loc[df_transactions['Is Fraud?'] == \"No\"]    # ~ 20_000_000 records\n",
    "\n",
    "df : pd.DataFrame = df_yes.append(df_no.sample(70_000)\n",
    ")\n"
   ]
  },
  {
   "cell_type": "code",
   "execution_count": null,
   "metadata": {},
   "outputs": [
    {
     "ename": "",
     "evalue": "",
     "output_type": "error",
     "traceback": [
      "\u001b[1;31mRunning cells with '/opt/homebrew/bin/python3.10' requires the ipykernel package.\n",
      "\u001b[1;31mRun the following command to install 'ipykernel' into the Python environment. \n",
      "\u001b[1;31mCommand: '/opt/homebrew/bin/python3.10 -m pip install ipykernel -U --user --force-reinstall'"
     ]
    }
   ],
   "source": [
    "df_cards.rename(columns={'CARD INDEX' : 'Card'})\n",
    "df_cards.drop(columns=['User'], inplace=True)\n",
    "\n",
    "df = df.join(df_cards, on='Card')\n",
    "df.head()"
   ]
  },
  {
   "cell_type": "code",
   "execution_count": null,
   "metadata": {},
   "outputs": [
    {
     "ename": "",
     "evalue": "",
     "output_type": "error",
     "traceback": [
      "\u001b[1;31mRunning cells with '/opt/homebrew/bin/python3.10' requires the ipykernel package.\n",
      "\u001b[1;31mRun the following command to install 'ipykernel' into the Python environment. \n",
      "\u001b[1;31mCommand: '/opt/homebrew/bin/python3.10 -m pip install ipykernel -U --user --force-reinstall'"
     ]
    }
   ],
   "source": [
    "df = df.join(df_users, on='User', rsuffix='_u')\n",
    "df.head()\n",
    "df.columns"
   ]
  },
  {
   "cell_type": "markdown",
   "metadata": {},
   "source": [
    "# Renaming Columns"
   ]
  },
  {
   "cell_type": "code",
   "execution_count": null,
   "metadata": {},
   "outputs": [
    {
     "ename": "",
     "evalue": "",
     "output_type": "error",
     "traceback": [
      "\u001b[1;31mRunning cells with '/opt/homebrew/bin/python3.10' requires the ipykernel package.\n",
      "\u001b[1;31mRun the following command to install 'ipykernel' into the Python environment. \n",
      "\u001b[1;31mCommand: '/opt/homebrew/bin/python3.10 -m pip install ipykernel -U --user --force-reinstall'"
     ]
    }
   ],
   "source": [
    "df.drop(columns=\n",
    "        ['Card', \n",
    "         'CARD INDEX', 'Card Number', 'CVV', 'Has Chip', 'Cards Issued', 'Card on Dark Web', \n",
    "         'Person', 'Birth Year', 'Birth Month', 'Per Capita Income - Zipcode']\n",
    "         ,errors='ignore', inplace=True)\n",
    "\n",
    "df.rename(columns={\n",
    "    'User'                          : 'user_id', \n",
    "#    'Card'                          : 'card_id', \n",
    "    'Year'                          : 'year', \n",
    "    'Month'                         : 'month', \n",
    "    'Day'                           : 'day', \n",
    "    'Time'                          : 'time', \n",
    "    'Amount'                        : 'amount', \n",
    "    'Use Chip'                      : 'card_method',\n",
    "    'Merchant Name'                 : 'merchant',\n",
    "    'Merchant City'                 : 'merchant_city',\n",
    "    'Merchant State'                : 'merchant_state',\n",
    "    'Zip'                           : 'merchant_zip',\n",
    "    'MCC'                           : 'merchant_code',\n",
    "    'Errors?'                       : 'errors', \n",
    "    'Is Fraud?'                     : 'flagged_as_fraud', \n",
    "    \n",
    "#    'CARD INDEX'                    : 'card_id', \n",
    "    'Card Brand'                    : 'card_brand',\n",
    "    'Card Type'                     : 'card_type',\n",
    "#    'Card Number'                   , \n",
    "    'Expires'                       : 'card_expiry_date', \n",
    "#    'CVV'                           , \n",
    "#    'Has Chip'                      , \n",
    "#    'Cards Issued'                  ,\n",
    "    'Credit Limit'                  : 'card_limit', \n",
    "    'Acct Open Date'                : 'card_issue_date', \n",
    "    'Year PIN last Changed'         : 'card_last_pin',\n",
    "#    'Card on Dark Web'              : , \n",
    "    \n",
    "#    'Person'                        : , \n",
    "    'Current Age'                   : 'user_age', \n",
    "    'Retirement Age'                : 'user_retirement',\n",
    "#    'Birth Year'                    : , \n",
    "#    'Birth Month'                   : , \n",
    "    'Gender'                        : 'user_gender', \n",
    "    'Address'                       : 'user_address', \n",
    "    'Apartment'                     : 'user_apartment', \n",
    "    'City'                          : 'user_city',\n",
    "    'State'                         : 'user_state', \n",
    "    'Zipcode'                       : 'user_zip', \n",
    "    'Latitude'                      : 'user_lat', \n",
    "    'Longitude'                     : 'user_long',\n",
    "#    'Per Capita Income - Zipcode'   : '', \n",
    "    'Yearly Income - Person'        : 'user_income', \n",
    "    'Total Debt'                    : 'user_debt',\n",
    "    'FICO Score'                    : 'user_rating', \n",
    "    'Num Credit Cards'              : 'user_number_of_cards'\n",
    "}, inplace=True)\n",
    "\n",
    "df.head()"
   ]
  },
  {
   "cell_type": "code",
   "execution_count": null,
   "metadata": {},
   "outputs": [
    {
     "ename": "",
     "evalue": "",
     "output_type": "error",
     "traceback": [
      "\u001b[1;31mRunning cells with '/opt/homebrew/bin/python3.10' requires the ipykernel package.\n",
      "\u001b[1;31mRun the following command to install 'ipykernel' into the Python environment. \n",
      "\u001b[1;31mCommand: '/opt/homebrew/bin/python3.10 -m pip install ipykernel -U --user --force-reinstall'"
     ]
    }
   ],
   "source": [
    "df.to_csv('../data/credit_transactions.csv', index=False)"
   ]
  }
 ],
 "metadata": {
  "kernelspec": {
   "display_name": "base",
   "language": "python",
   "name": "python3"
  },
  "language_info": {
   "codemirror_mode": {
    "name": "ipython",
    "version": 3
   },
   "file_extension": ".py",
   "mimetype": "text/x-python",
   "name": "python",
   "nbconvert_exporter": "python",
   "pygments_lexer": "ipython3",
   "version": "3.10.12"
  }
 },
 "nbformat": 4,
 "nbformat_minor": 2
}
