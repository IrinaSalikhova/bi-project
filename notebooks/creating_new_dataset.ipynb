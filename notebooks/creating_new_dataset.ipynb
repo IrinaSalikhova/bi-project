{
 "cells": [
  {
   "cell_type": "markdown",
   "metadata": {},
   "source": [
    "# Data Sampling\n",
    "\n",
    "Data from [Kaggle user ealtman](https://www.kaggle.com/datasets/ealtman2019/credit-card-transactions)\n",
    "\n",
    "The original dataset is massive, with just one file being over 2 gigs.\n",
    "In addition, it is unbalanced with their being mostly non-fraudulant transactions.\n",
    "\n",
    "To remedy this, and make the data under 100 MB for upload, we'll conserve all fraudulent records but reduce the overall dataset so that 70% are non-fraudulent. This means about 30,000 fraudulent credit transactions and 70,000 random non-fraudulent transactions."
   ]
  },
  {
   "cell_type": "code",
   "execution_count": 2,
   "metadata": {},
   "outputs": [],
   "source": [
    "import pandas as pd\n",
    "\n",
    "df_users = pd.read_csv('/Users/mattd/Downloads/archive (4)/sd254_users.csv')\n",
    "df_cards = pd.read_csv('/Users/mattd/Downloads/archive (4)/sd254_cards.csv')\n",
    "df_transactions = pd.read_csv('/Users/mattd/Downloads/archive (4)/credit_card_transactions-ibm_v2.csv')"
   ]
  },
  {
   "cell_type": "code",
   "execution_count": 3,
   "metadata": {},
   "outputs": [
    {
     "data": {
      "text/plain": [
       "Index(['User', 'Card', 'Year', 'Month', 'Day', 'Time', 'Amount', 'Use Chip',\n",
       "       'Merchant Name', 'Merchant City', 'Merchant State', 'Zip', 'MCC',\n",
       "       'Errors?', 'Is Fraud?'],\n",
       "      dtype='object')"
      ]
     },
     "execution_count": 3,
     "metadata": {},
     "output_type": "execute_result"
    }
   ],
   "source": [
    "df_transactions.columns"
   ]
  },
  {
   "cell_type": "code",
   "execution_count": 4,
   "metadata": {},
   "outputs": [
    {
     "ename": "ValueError",
     "evalue": "Please enter a value for `frac` OR `n`, not both",
     "output_type": "error",
     "traceback": [
      "\u001b[0;31m---------------------------------------------------------------------------\u001b[0m",
      "\u001b[0;31mValueError\u001b[0m                                Traceback (most recent call last)",
      "\u001b[1;32m/Users/mattd/source/0007-project/bi-project/notebooks/creating_new_dataset.ipynb Cell 4\u001b[0m line \u001b[0;36m4\n\u001b[1;32m      <a href='vscode-notebook-cell:/Users/mattd/source/0007-project/bi-project/notebooks/creating_new_dataset.ipynb#W3sZmlsZQ%3D%3D?line=0'>1</a>\u001b[0m df_yes \u001b[39m=\u001b[39m df_transactions\u001b[39m.\u001b[39mloc[df_transactions[\u001b[39m'\u001b[39m\u001b[39mIs Fraud?\u001b[39m\u001b[39m'\u001b[39m] \u001b[39m==\u001b[39m \u001b[39m\"\u001b[39m\u001b[39mYes\u001b[39m\u001b[39m\"\u001b[39m]  \u001b[39m# ~     30_000 records\u001b[39;00m\n\u001b[1;32m      <a href='vscode-notebook-cell:/Users/mattd/source/0007-project/bi-project/notebooks/creating_new_dataset.ipynb#W3sZmlsZQ%3D%3D?line=1'>2</a>\u001b[0m df_no \u001b[39m=\u001b[39m df_transactions\u001b[39m.\u001b[39mloc[df_transactions[\u001b[39m'\u001b[39m\u001b[39mIs Fraud?\u001b[39m\u001b[39m'\u001b[39m] \u001b[39m==\u001b[39m \u001b[39m\"\u001b[39m\u001b[39mNo\u001b[39m\u001b[39m\"\u001b[39m]    \u001b[39m# ~ 20_000_000 records\u001b[39;00m\n\u001b[0;32m----> <a href='vscode-notebook-cell:/Users/mattd/source/0007-project/bi-project/notebooks/creating_new_dataset.ipynb#W3sZmlsZQ%3D%3D?line=3'>4</a>\u001b[0m df_no \u001b[39m=\u001b[39m df_no\u001b[39m.\u001b[39;49msample(\u001b[39m70\u001b[39;49m,\u001b[39m000\u001b[39;49m)\n\u001b[1;32m      <a href='vscode-notebook-cell:/Users/mattd/source/0007-project/bi-project/notebooks/creating_new_dataset.ipynb#W3sZmlsZQ%3D%3D?line=5'>6</a>\u001b[0m df \u001b[39m=\u001b[39m pd\u001b[39m.\u001b[39mconcat((df_yes, df_no))\n",
      "File \u001b[0;32m~/miniconda3/lib/python3.10/site-packages/pandas/core/generic.py:5850\u001b[0m, in \u001b[0;36mNDFrame.sample\u001b[0;34m(self, n, frac, replace, weights, random_state, axis, ignore_index)\u001b[0m\n\u001b[1;32m   5847\u001b[0m \u001b[39m# Process random_state argument\u001b[39;00m\n\u001b[1;32m   5848\u001b[0m rs \u001b[39m=\u001b[39m common\u001b[39m.\u001b[39mrandom_state(random_state)\n\u001b[0;32m-> 5850\u001b[0m size \u001b[39m=\u001b[39m sample\u001b[39m.\u001b[39;49mprocess_sampling_size(n, frac, replace)\n\u001b[1;32m   5851\u001b[0m \u001b[39mif\u001b[39;00m size \u001b[39mis\u001b[39;00m \u001b[39mNone\u001b[39;00m:\n\u001b[1;32m   5852\u001b[0m     \u001b[39massert\u001b[39;00m frac \u001b[39mis\u001b[39;00m \u001b[39mnot\u001b[39;00m \u001b[39mNone\u001b[39;00m\n",
      "File \u001b[0;32m~/miniconda3/lib/python3.10/site-packages/pandas/core/sample.py:93\u001b[0m, in \u001b[0;36mprocess_sampling_size\u001b[0;34m(n, frac, replace)\u001b[0m\n\u001b[1;32m     91\u001b[0m     n \u001b[39m=\u001b[39m \u001b[39m1\u001b[39m\n\u001b[1;32m     92\u001b[0m \u001b[39melif\u001b[39;00m n \u001b[39mis\u001b[39;00m \u001b[39mnot\u001b[39;00m \u001b[39mNone\u001b[39;00m \u001b[39mand\u001b[39;00m frac \u001b[39mis\u001b[39;00m \u001b[39mnot\u001b[39;00m \u001b[39mNone\u001b[39;00m:\n\u001b[0;32m---> 93\u001b[0m     \u001b[39mraise\u001b[39;00m \u001b[39mValueError\u001b[39;00m(\u001b[39m\"\u001b[39m\u001b[39mPlease enter a value for `frac` OR `n`, not both\u001b[39m\u001b[39m\"\u001b[39m)\n\u001b[1;32m     94\u001b[0m \u001b[39melif\u001b[39;00m n \u001b[39mis\u001b[39;00m \u001b[39mnot\u001b[39;00m \u001b[39mNone\u001b[39;00m:\n\u001b[1;32m     95\u001b[0m     \u001b[39mif\u001b[39;00m n \u001b[39m<\u001b[39m \u001b[39m0\u001b[39m:\n",
      "\u001b[0;31mValueError\u001b[0m: Please enter a value for `frac` OR `n`, not both"
     ]
    }
   ],
   "source": [
    "df_yes = df_transactions.loc[df_transactions['Is Fraud?'] == \"Yes\"]  # ~     30_000 records\n",
    "df_no = df_transactions.loc[df_transactions['Is Fraud?'] == \"No\"]    # ~ 20_000_000 records\n",
    "\n",
    "df_no = df_no.sample(70_000)\n",
    "\n",
    "df = pd.concat((df_yes, df_no))"
   ]
  },
  {
   "cell_type": "code",
   "execution_count": null,
   "metadata": {},
   "outputs": [],
   "source": [
    "df = df.merge(df_cards, on='Card')\n",
    "df = df.merge(df_users, on='User')"
   ]
  },
  {
   "cell_type": "code",
   "execution_count": null,
   "metadata": {},
   "outputs": [],
   "source": [
    "df.head()"
   ]
  }
 ],
 "metadata": {
  "kernelspec": {
   "display_name": "base",
   "language": "python",
   "name": "python3"
  },
  "language_info": {
   "codemirror_mode": {
    "name": "ipython",
    "version": 3
   },
   "file_extension": ".py",
   "mimetype": "text/x-python",
   "name": "python",
   "nbconvert_exporter": "python",
   "pygments_lexer": "ipython3",
   "version": "3.10.12"
  }
 },
 "nbformat": 4,
 "nbformat_minor": 2
}
