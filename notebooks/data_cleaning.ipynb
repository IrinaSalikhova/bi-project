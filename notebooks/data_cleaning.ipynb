{
 "cells": [
  {
   "cell_type": "code",
   "execution_count": 2,
   "metadata": {},
   "outputs": [
    {
     "data": {
      "text/html": [
       "<div>\n",
       "<style scoped>\n",
       "    .dataframe tbody tr th:only-of-type {\n",
       "        vertical-align: middle;\n",
       "    }\n",
       "\n",
       "    .dataframe tbody tr th {\n",
       "        vertical-align: top;\n",
       "    }\n",
       "\n",
       "    .dataframe thead th {\n",
       "        text-align: right;\n",
       "    }\n",
       "</style>\n",
       "<table border=\"1\" class=\"dataframe\">\n",
       "  <thead>\n",
       "    <tr style=\"text-align: right;\">\n",
       "      <th></th>\n",
       "      <th>user_id</th>\n",
       "      <th>year</th>\n",
       "      <th>month</th>\n",
       "      <th>day</th>\n",
       "      <th>time</th>\n",
       "      <th>amount</th>\n",
       "      <th>card_method</th>\n",
       "      <th>merchant</th>\n",
       "      <th>merchant_city</th>\n",
       "      <th>merchant_state</th>\n",
       "      <th>...</th>\n",
       "      <th>user_apartment</th>\n",
       "      <th>user_city</th>\n",
       "      <th>user_state</th>\n",
       "      <th>user_zip</th>\n",
       "      <th>user_lat</th>\n",
       "      <th>user_long</th>\n",
       "      <th>user_income</th>\n",
       "      <th>user_debt</th>\n",
       "      <th>user_rating</th>\n",
       "      <th>user_number_of_cards</th>\n",
       "    </tr>\n",
       "  </thead>\n",
       "  <tbody>\n",
       "    <tr>\n",
       "      <th>0</th>\n",
       "      <td>0</td>\n",
       "      <td>2015</td>\n",
       "      <td>11</td>\n",
       "      <td>15</td>\n",
       "      <td>12:55</td>\n",
       "      <td>$287.13</td>\n",
       "      <td>Online Transaction</td>\n",
       "      <td>-8194607650924472520</td>\n",
       "      <td>ONLINE</td>\n",
       "      <td>NaN</td>\n",
       "      <td>...</td>\n",
       "      <td>NaN</td>\n",
       "      <td>La Verne</td>\n",
       "      <td>CA</td>\n",
       "      <td>91750</td>\n",
       "      <td>34.15</td>\n",
       "      <td>-117.76</td>\n",
       "      <td>$59696</td>\n",
       "      <td>$127613</td>\n",
       "      <td>787</td>\n",
       "      <td>5</td>\n",
       "    </tr>\n",
       "    <tr>\n",
       "      <th>1</th>\n",
       "      <td>0</td>\n",
       "      <td>2015</td>\n",
       "      <td>11</td>\n",
       "      <td>15</td>\n",
       "      <td>13:19</td>\n",
       "      <td>$2.41</td>\n",
       "      <td>Online Transaction</td>\n",
       "      <td>-7759074308363763111</td>\n",
       "      <td>ONLINE</td>\n",
       "      <td>NaN</td>\n",
       "      <td>...</td>\n",
       "      <td>NaN</td>\n",
       "      <td>La Verne</td>\n",
       "      <td>CA</td>\n",
       "      <td>91750</td>\n",
       "      <td>34.15</td>\n",
       "      <td>-117.76</td>\n",
       "      <td>$59696</td>\n",
       "      <td>$127613</td>\n",
       "      <td>787</td>\n",
       "      <td>5</td>\n",
       "    </tr>\n",
       "    <tr>\n",
       "      <th>2</th>\n",
       "      <td>0</td>\n",
       "      <td>2015</td>\n",
       "      <td>11</td>\n",
       "      <td>16</td>\n",
       "      <td>09:41</td>\n",
       "      <td>$50.81</td>\n",
       "      <td>Online Transaction</td>\n",
       "      <td>-551332107213382088</td>\n",
       "      <td>ONLINE</td>\n",
       "      <td>NaN</td>\n",
       "      <td>...</td>\n",
       "      <td>NaN</td>\n",
       "      <td>La Verne</td>\n",
       "      <td>CA</td>\n",
       "      <td>91750</td>\n",
       "      <td>34.15</td>\n",
       "      <td>-117.76</td>\n",
       "      <td>$59696</td>\n",
       "      <td>$127613</td>\n",
       "      <td>787</td>\n",
       "      <td>5</td>\n",
       "    </tr>\n",
       "    <tr>\n",
       "      <th>3</th>\n",
       "      <td>0</td>\n",
       "      <td>2015</td>\n",
       "      <td>11</td>\n",
       "      <td>16</td>\n",
       "      <td>09:46</td>\n",
       "      <td>$248.36</td>\n",
       "      <td>Online Transaction</td>\n",
       "      <td>4872340518840476610</td>\n",
       "      <td>ONLINE</td>\n",
       "      <td>NaN</td>\n",
       "      <td>...</td>\n",
       "      <td>NaN</td>\n",
       "      <td>La Verne</td>\n",
       "      <td>CA</td>\n",
       "      <td>91750</td>\n",
       "      <td>34.15</td>\n",
       "      <td>-117.76</td>\n",
       "      <td>$59696</td>\n",
       "      <td>$127613</td>\n",
       "      <td>787</td>\n",
       "      <td>5</td>\n",
       "    </tr>\n",
       "    <tr>\n",
       "      <th>4</th>\n",
       "      <td>0</td>\n",
       "      <td>2015</td>\n",
       "      <td>11</td>\n",
       "      <td>16</td>\n",
       "      <td>11:20</td>\n",
       "      <td>$473.00</td>\n",
       "      <td>Online Transaction</td>\n",
       "      <td>-8566951830324093739</td>\n",
       "      <td>ONLINE</td>\n",
       "      <td>NaN</td>\n",
       "      <td>...</td>\n",
       "      <td>NaN</td>\n",
       "      <td>La Verne</td>\n",
       "      <td>CA</td>\n",
       "      <td>91750</td>\n",
       "      <td>34.15</td>\n",
       "      <td>-117.76</td>\n",
       "      <td>$59696</td>\n",
       "      <td>$127613</td>\n",
       "      <td>787</td>\n",
       "      <td>5</td>\n",
       "    </tr>\n",
       "  </tbody>\n",
       "</table>\n",
       "<p>5 rows × 34 columns</p>\n",
       "</div>"
      ],
      "text/plain": [
       "   user_id  year  month  day   time   amount         card_method  \\\n",
       "0        0  2015     11   15  12:55  $287.13  Online Transaction   \n",
       "1        0  2015     11   15  13:19    $2.41  Online Transaction   \n",
       "2        0  2015     11   16  09:41   $50.81  Online Transaction   \n",
       "3        0  2015     11   16  09:46  $248.36  Online Transaction   \n",
       "4        0  2015     11   16  11:20  $473.00  Online Transaction   \n",
       "\n",
       "              merchant merchant_city merchant_state  ...  user_apartment  \\\n",
       "0 -8194607650924472520        ONLINE            NaN  ...             NaN   \n",
       "1 -7759074308363763111        ONLINE            NaN  ...             NaN   \n",
       "2  -551332107213382088        ONLINE            NaN  ...             NaN   \n",
       "3  4872340518840476610        ONLINE            NaN  ...             NaN   \n",
       "4 -8566951830324093739        ONLINE            NaN  ...             NaN   \n",
       "\n",
       "   user_city user_state user_zip user_lat user_long user_income user_debt  \\\n",
       "0   La Verne         CA    91750    34.15   -117.76      $59696   $127613   \n",
       "1   La Verne         CA    91750    34.15   -117.76      $59696   $127613   \n",
       "2   La Verne         CA    91750    34.15   -117.76      $59696   $127613   \n",
       "3   La Verne         CA    91750    34.15   -117.76      $59696   $127613   \n",
       "4   La Verne         CA    91750    34.15   -117.76      $59696   $127613   \n",
       "\n",
       "  user_rating  user_number_of_cards  \n",
       "0         787                     5  \n",
       "1         787                     5  \n",
       "2         787                     5  \n",
       "3         787                     5  \n",
       "4         787                     5  \n",
       "\n",
       "[5 rows x 34 columns]"
      ]
     },
     "execution_count": 2,
     "metadata": {},
     "output_type": "execute_result"
    }
   ],
   "source": [
    "import pandas as pd\n",
    "import matplotlib.pyplot as plt\n",
    "from datetime import datetime\n",
    "df : pd.DataFrame = pd.read_csv(\"../data/credit_transactions.csv\")\n",
    "\n",
    "df.columns\n",
    "df.head()"
   ]
  },
  {
   "cell_type": "markdown",
   "metadata": {},
   "source": [
    "# Dropping Useless Columns"
   ]
  },
  {
   "cell_type": "code",
   "execution_count": 3,
   "metadata": {},
   "outputs": [],
   "source": [
    "df.drop(columns=[\n",
    "    'merchant',     # It's been obsfucated\n",
    "    'merchant_zip', # We don't need it\n",
    "    'user_address', # We don't need it\n",
    "    'user_apartment', # We don't need it\n",
    "    'user_zip',         # We don't need it\n",
    "    'user_lat',\n",
    "    'user_long',\n",
    "], inplace=True)"
   ]
  },
  {
   "cell_type": "markdown",
   "metadata": {},
   "source": [
    "# Fixing mm/ yy date formats"
   ]
  },
  {
   "cell_type": "code",
   "execution_count": 4,
   "metadata": {},
   "outputs": [
    {
     "data": {
      "text/plain": [
       "card_expiry_date    object\n",
       "card_issue_date     object\n",
       "card_last_pin        int64\n",
       "dtype: object"
      ]
     },
     "execution_count": 4,
     "metadata": {},
     "output_type": "execute_result"
    }
   ],
   "source": [
    "df['card_expiry_date'].value_counts()\n",
    "df[['card_expiry_date', 'card_issue_date', 'card_last_pin']].dtypes"
   ]
  },
  {
   "cell_type": "code",
   "execution_count": 5,
   "metadata": {},
   "outputs": [
    {
     "data": {
      "text/plain": [
       "card_expiry_date    datetime64[ns]\n",
       "card_issue_date     datetime64[ns]\n",
       "card_last_pin       datetime64[ns]\n",
       "dtype: object"
      ]
     },
     "execution_count": 5,
     "metadata": {},
     "output_type": "execute_result"
    }
   ],
   "source": [
    "df['card_expiry_date'] = df['card_expiry_date'].apply(lambda x: datetime.strptime(x, \"%m/%Y\"))\n",
    "df['card_issue_date'] = df['card_issue_date'].apply(lambda x: datetime.strptime(x, \"%m/%Y\"))\n",
    "df['card_last_pin'] = df['card_last_pin'].astype(str).apply(lambda x: datetime.strptime(str(x), \"%Y\"))\n",
    "\n",
    "df[['card_expiry_date', 'card_issue_date', 'card_last_pin']].dtypes"
   ]
  },
  {
   "cell_type": "markdown",
   "metadata": {},
   "source": [
    "# Fixing Easy Dtypes"
   ]
  },
  {
   "cell_type": "code",
   "execution_count": 6,
   "metadata": {},
   "outputs": [],
   "source": [
    "df['flagged_as_fraud'] = df['flagged_as_fraud'].replace({'Yes':True, 'No':False})"
   ]
  },
  {
   "cell_type": "markdown",
   "metadata": {},
   "source": [
    "# Condensing Transaction Datetime"
   ]
  },
  {
   "cell_type": "code",
   "execution_count": 7,
   "metadata": {},
   "outputs": [],
   "source": [
    "from datetime import datetime\n",
    "\n",
    "def condense_time(row):\n",
    "    x = datetime(\n",
    "        int(row.year), \n",
    "        int(row.month), \n",
    "        int(row.day), \n",
    "        int(row.time.split(':')[0]), \n",
    "        int(row.time.split(':')[1])\n",
    "    )\n",
    "    return x\n",
    "\n",
    "df['purchase_date'] = df.apply(condense_time, axis=1)\n",
    "\n",
    "df.drop(columns=['year','month','day','time'], inplace=True)"
   ]
  },
  {
   "cell_type": "markdown",
   "metadata": {},
   "source": [
    "# Fixing Dollar Amounts"
   ]
  },
  {
   "cell_type": "code",
   "execution_count": 8,
   "metadata": {},
   "outputs": [
    {
     "data": {
      "text/html": [
       "<div>\n",
       "<style scoped>\n",
       "    .dataframe tbody tr th:only-of-type {\n",
       "        vertical-align: middle;\n",
       "    }\n",
       "\n",
       "    .dataframe tbody tr th {\n",
       "        vertical-align: top;\n",
       "    }\n",
       "\n",
       "    .dataframe thead th {\n",
       "        text-align: right;\n",
       "    }\n",
       "</style>\n",
       "<table border=\"1\" class=\"dataframe\">\n",
       "  <thead>\n",
       "    <tr style=\"text-align: right;\">\n",
       "      <th></th>\n",
       "      <th>amount</th>\n",
       "      <th>user_income</th>\n",
       "      <th>user_debt</th>\n",
       "      <th>card_limit</th>\n",
       "    </tr>\n",
       "  </thead>\n",
       "  <tbody>\n",
       "    <tr>\n",
       "      <th>0</th>\n",
       "      <td>287.13</td>\n",
       "      <td>59696.0</td>\n",
       "      <td>127613.0</td>\n",
       "      <td>24295.0</td>\n",
       "    </tr>\n",
       "    <tr>\n",
       "      <th>1</th>\n",
       "      <td>2.41</td>\n",
       "      <td>59696.0</td>\n",
       "      <td>127613.0</td>\n",
       "      <td>24295.0</td>\n",
       "    </tr>\n",
       "    <tr>\n",
       "      <th>2</th>\n",
       "      <td>50.81</td>\n",
       "      <td>59696.0</td>\n",
       "      <td>127613.0</td>\n",
       "      <td>24295.0</td>\n",
       "    </tr>\n",
       "    <tr>\n",
       "      <th>3</th>\n",
       "      <td>248.36</td>\n",
       "      <td>59696.0</td>\n",
       "      <td>127613.0</td>\n",
       "      <td>24295.0</td>\n",
       "    </tr>\n",
       "    <tr>\n",
       "      <th>4</th>\n",
       "      <td>473.00</td>\n",
       "      <td>59696.0</td>\n",
       "      <td>127613.0</td>\n",
       "      <td>24295.0</td>\n",
       "    </tr>\n",
       "    <tr>\n",
       "      <th>...</th>\n",
       "      <td>...</td>\n",
       "      <td>...</td>\n",
       "      <td>...</td>\n",
       "      <td>...</td>\n",
       "    </tr>\n",
       "    <tr>\n",
       "      <th>99752</th>\n",
       "      <td>3.26</td>\n",
       "      <td>43638.0</td>\n",
       "      <td>104052.0</td>\n",
       "      <td>24295.0</td>\n",
       "    </tr>\n",
       "    <tr>\n",
       "      <th>99753</th>\n",
       "      <td>30.02</td>\n",
       "      <td>71490.0</td>\n",
       "      <td>0.0</td>\n",
       "      <td>24295.0</td>\n",
       "    </tr>\n",
       "    <tr>\n",
       "      <th>99754</th>\n",
       "      <td>31.59</td>\n",
       "      <td>61532.0</td>\n",
       "      <td>26832.0</td>\n",
       "      <td>21968.0</td>\n",
       "    </tr>\n",
       "    <tr>\n",
       "      <th>99755</th>\n",
       "      <td>100.00</td>\n",
       "      <td>34496.0</td>\n",
       "      <td>33122.0</td>\n",
       "      <td>28.0</td>\n",
       "    </tr>\n",
       "    <tr>\n",
       "      <th>99756</th>\n",
       "      <td>100.00</td>\n",
       "      <td>48010.0</td>\n",
       "      <td>87837.0</td>\n",
       "      <td>21968.0</td>\n",
       "    </tr>\n",
       "  </tbody>\n",
       "</table>\n",
       "<p>99757 rows × 4 columns</p>\n",
       "</div>"
      ],
      "text/plain": [
       "       amount  user_income  user_debt  card_limit\n",
       "0      287.13      59696.0   127613.0     24295.0\n",
       "1        2.41      59696.0   127613.0     24295.0\n",
       "2       50.81      59696.0   127613.0     24295.0\n",
       "3      248.36      59696.0   127613.0     24295.0\n",
       "4      473.00      59696.0   127613.0     24295.0\n",
       "...       ...          ...        ...         ...\n",
       "99752    3.26      43638.0   104052.0     24295.0\n",
       "99753   30.02      71490.0        0.0     24295.0\n",
       "99754   31.59      61532.0    26832.0     21968.0\n",
       "99755  100.00      34496.0    33122.0        28.0\n",
       "99756  100.00      48010.0    87837.0     21968.0\n",
       "\n",
       "[99757 rows x 4 columns]"
      ]
     },
     "execution_count": 8,
     "metadata": {},
     "output_type": "execute_result"
    }
   ],
   "source": [
    "dedollarizer = lambda s: float(s.lstrip(\"$\"))\n",
    "\n",
    "df['amount'] = df['amount'].apply(dedollarizer)\n",
    "df['user_income'] = df['user_income'].apply(dedollarizer)\n",
    "df['user_debt'] = df['user_debt'].apply(dedollarizer)\n",
    "df['card_limit'] = df['card_limit'].apply(dedollarizer)\n",
    "\n",
    "df[['amount', 'user_income', 'user_debt', 'card_limit']]\n"
   ]
  },
  {
   "cell_type": "markdown",
   "metadata": {},
   "source": [
    "# Adding External MCC Category Names"
   ]
  },
  {
   "cell_type": "code",
   "execution_count": 9,
   "metadata": {},
   "outputs": [],
   "source": [
    "# read additional dataset for grouped merchant columns \n",
    "mcc_df = pd.read_csv('../data/mcc_grouped.csv')\n",
    "\n",
    "# create the custom function to identify the matching business type for merchant code\n",
    "def get_mcc_name(code):\n",
    "    matching_code = mcc_df.loc[(mcc_df['start'] <= code) & (code <= mcc_df['end'])]\n",
    "    if not matching_code.empty:\n",
    "        return matching_code['Business type'].iloc[0]\n",
    "    else:\n",
    "        return 'Unknown'\n",
    "    \n",
    "# Apply the custom function to create a new column in df\n",
    "df['mcc_group'] = df['merchant_code'].apply(get_mcc_name)\n"
   ]
  },
  {
   "cell_type": "code",
   "execution_count": 10,
   "metadata": {},
   "outputs": [
    {
     "name": "stdout",
     "output_type": "stream",
     "text": [
      "       state_match merchant_state user_state\n",
      "0            False            NaN         CA\n",
      "1            False            NaN         CA\n",
      "2            False            NaN         CA\n",
      "3            False            NaN         CA\n",
      "4            False            NaN         CA\n",
      "...            ...            ...        ...\n",
      "99752         True             CA         CA\n",
      "99753         True             VA         VA\n",
      "99754        False            NaN         MD\n",
      "99755         True             CA         CA\n",
      "99756         True             NY         NY\n",
      "\n",
      "[99757 rows x 3 columns]\n"
     ]
    },
    {
     "data": {
      "text/plain": [
       "state_match\n",
       "True     59622\n",
       "False    40135\n",
       "Name: count, dtype: int64"
      ]
     },
     "execution_count": 10,
     "metadata": {},
     "output_type": "execute_result"
    }
   ],
   "source": [
    "# create new boolean column (feature engineering) to check if merchant and user states matches\n",
    "df['state_match']=df['merchant_state'] == df['user_state']\n",
    "\n",
    "#check results\n",
    "selected_columns = ['state_match', 'merchant_state', 'user_state']\n",
    "result_df = df[selected_columns]\n",
    "print(result_df)\n",
    "df['state_match'].value_counts()"
   ]
  },
  {
   "cell_type": "code",
   "execution_count": 11,
   "metadata": {},
   "outputs": [
    {
     "name": "stdout",
     "output_type": "stream",
     "text": [
      "       city_match merchant_city     user_city\n",
      "0           False        ONLINE      La Verne\n",
      "1           False        ONLINE      La Verne\n",
      "2           False        ONLINE      La Verne\n",
      "3           False        ONLINE      La Verne\n",
      "4           False        ONLINE      La Verne\n",
      "...           ...           ...           ...\n",
      "99752       False       Burbank      Van Nuys\n",
      "99753        True        Lorton        Lorton\n",
      "99754       False        ONLINE  Gaithersburg\n",
      "99755       False      San Jose   Watsonville\n",
      "99756       False      Lynbrook      Freeport\n",
      "\n",
      "[99757 rows x 3 columns]\n"
     ]
    },
    {
     "data": {
      "text/plain": [
       "city_match\n",
       "False    59278\n",
       "True     40479\n",
       "Name: count, dtype: int64"
      ]
     },
     "execution_count": 11,
     "metadata": {},
     "output_type": "execute_result"
    }
   ],
   "source": [
    "# create new boolean column (feature engineering) to check if merchant and user cities matches\n",
    "df['city_match'] = df['merchant_city'] == df['user_city']\n",
    "\n",
    "#check results\n",
    "df['city_match'].value_counts()\n",
    "selected_columns = ['city_match', 'merchant_city', 'user_city']\n",
    "result_df = df[selected_columns]\n",
    "print(result_df)\n",
    "df['city_match'].value_counts()"
   ]
  },
  {
   "cell_type": "code",
   "execution_count": 12,
   "metadata": {},
   "outputs": [
    {
     "name": "stdout",
     "output_type": "stream",
     "text": [
      "errors\n",
      "Insufficient Balance                     1117\n",
      "Bad PIN                                   475\n",
      "Bad CVV                                   309\n",
      "Technical Glitch                          193\n",
      "Bad Card Number                           151\n",
      "Bad Expiration                            141\n",
      "Bad PIN,Insufficient Balance               11\n",
      "Bad Zipcode                                 7\n",
      "Bad CVV,Insufficient Balance                4\n",
      "Bad Expiration,Bad CVV                      2\n",
      "Bad Expiration,Technical Glitch             2\n",
      "Bad Card Number,Insufficient Balance        2\n",
      "Bad PIN,Technical Glitch                    2\n",
      "Bad CVV,Technical Glitch                    2\n",
      "Insufficient Balance,Technical Glitch       1\n",
      "Bad Expiration,Insufficient Balance         1\n",
      "Bad Zipcode,Insufficient Balance            1\n",
      "Name: count, dtype: int64\n"
     ]
    },
    {
     "data": {
      "text/plain": [
       "bad_pin\n",
       "0    99269\n",
       "1      488\n",
       "Name: count, dtype: int64"
      ]
     },
     "execution_count": 12,
     "metadata": {},
     "output_type": "execute_result"
    }
   ],
   "source": [
    "# display initial condition\n",
    "print(df['errors'].value_counts())\n",
    "\n",
    "# split the values in the 'errors' column and create a new DataFrame with dummy variables\n",
    "errors_dummies = df['errors'].str.get_dummies(sep=',')\n",
    "errors_dummies\n",
    "\n",
    "# Giving columns more concise names, allowing us to access via .notation\n",
    "errors_dummies.rename(\n",
    "    columns={\n",
    "        'Insufficient Balance' : 'insuf_balance',\n",
    "        'Bad PIN'              : 'bad_pin',\n",
    "        'Bad CVV'              : 'bad_cvv',\n",
    "        'Bad Card Number'      : 'bad_card_number',\n",
    "        'Bad Expiration'       : 'bad_expir',\n",
    "        'Bad Zipcode'          : 'bad_zip',\n",
    "        'Technical Glitch'     : 'tech_glitch',\n",
    "    }, inplace= True\n",
    ")\n",
    "errors_dummies\n",
    "\n",
    "# concatenate the new DataFrame with the original DataFrame\n",
    "df = pd.concat([df, errors_dummies], axis=1)\n",
    "\n",
    "# drop errors column\n",
    "df.drop(columns={'errors'}, inplace= True)\n",
    "\n",
    "# Display the result for bad_pin to check\n",
    "df['bad_pin'].value_counts()"
   ]
  },
  {
   "cell_type": "code",
   "execution_count": 13,
   "metadata": {},
   "outputs": [
    {
     "data": {
      "text/plain": [
       "14169   -38\n",
       "39221   -38\n",
       "89953   -38\n",
       "69087   -38\n",
       "36361   -38\n",
       "         ..\n",
       "56586    53\n",
       "41908    53\n",
       "77226    53\n",
       "64062    53\n",
       "49450    53\n",
       "Name: retirement_age, Length: 99757, dtype: int64"
      ]
     },
     "execution_count": 13,
     "metadata": {},
     "output_type": "execute_result"
    }
   ],
   "source": [
    "# create new column (feature engineering) with the difference between user actual age and retirement age\n",
    "df['retirement_age']=(df.user_retirement - df.user_age).astype(int)\n",
    "\n",
    "#check if everything ok\n",
    "df['retirement_age'].sort_values()"
   ]
  },
  {
   "cell_type": "code",
   "execution_count": 14,
   "metadata": {},
   "outputs": [
    {
     "name": "stdout",
     "output_type": "stream",
     "text": [
      "Series([], Name: purchase_date, dtype: datetime64[ns]) Series([], Name: card_issue_date, dtype: datetime64[ns])\n"
     ]
    }
   ],
   "source": [
    "# create new column (feature engineering) with the card age to operation date\n",
    "df['card_age']=(df.purchase_date - df.card_issue_date)\n",
    "\n",
    "# Use boolean indexing to filter rows where card_age is not negative since negative results do not make sense \n",
    "df = df[df['card_age'] >= pd.Timedelta(0)]\n",
    "\n",
    "# for result checking use boolean indexing to filter rows where purchase_date < card_issue_date\n",
    "filtered_rows = df[df['purchase_date'] < df['card_issue_date']]\n",
    "\n",
    "# Display the result\n",
    "print(filtered_rows['purchase_date'], filtered_rows['card_issue_date'])"
   ]
  },
  {
   "cell_type": "code",
   "execution_count": null,
   "metadata": {},
   "outputs": [],
   "source": []
  },
  {
   "cell_type": "code",
   "execution_count": 15,
   "metadata": {},
   "outputs": [],
   "source": [
    "df.to_csv('../data/cleaned.csv', index=False)"
   ]
  }
 ],
 "metadata": {
  "kernelspec": {
   "display_name": "base",
   "language": "python",
   "name": "python3"
  },
  "language_info": {
   "codemirror_mode": {
    "name": "ipython",
    "version": 3
   },
   "file_extension": ".py",
   "mimetype": "text/x-python",
   "name": "python",
   "nbconvert_exporter": "python",
   "pygments_lexer": "ipython3",
   "version": "3.10.13"
  }
 },
 "nbformat": 4,
 "nbformat_minor": 2
}
