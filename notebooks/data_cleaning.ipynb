{
 "cells": [
  {
   "cell_type": "code",
   "execution_count": 40,
   "metadata": {},
   "outputs": [
    {
     "data": {
      "text/html": [
       "<div>\n",
       "<style scoped>\n",
       "    .dataframe tbody tr th:only-of-type {\n",
       "        vertical-align: middle;\n",
       "    }\n",
       "\n",
       "    .dataframe tbody tr th {\n",
       "        vertical-align: top;\n",
       "    }\n",
       "\n",
       "    .dataframe thead th {\n",
       "        text-align: right;\n",
       "    }\n",
       "</style>\n",
       "<table border=\"1\" class=\"dataframe\">\n",
       "  <thead>\n",
       "    <tr style=\"text-align: right;\">\n",
       "      <th></th>\n",
       "      <th>user_id</th>\n",
       "      <th>year</th>\n",
       "      <th>month</th>\n",
       "      <th>day</th>\n",
       "      <th>time</th>\n",
       "      <th>amount</th>\n",
       "      <th>card_method</th>\n",
       "      <th>merchant</th>\n",
       "      <th>merchant_city</th>\n",
       "      <th>merchant_state</th>\n",
       "      <th>...</th>\n",
       "      <th>user_apartment</th>\n",
       "      <th>user_city</th>\n",
       "      <th>user_state</th>\n",
       "      <th>user_zip</th>\n",
       "      <th>user_lat</th>\n",
       "      <th>user_long</th>\n",
       "      <th>user_income</th>\n",
       "      <th>user_debt</th>\n",
       "      <th>user_rating</th>\n",
       "      <th>user_number_of_cards</th>\n",
       "    </tr>\n",
       "  </thead>\n",
       "  <tbody>\n",
       "    <tr>\n",
       "      <th>0</th>\n",
       "      <td>0</td>\n",
       "      <td>2015</td>\n",
       "      <td>11</td>\n",
       "      <td>15</td>\n",
       "      <td>12:55</td>\n",
       "      <td>$287.13</td>\n",
       "      <td>Online Transaction</td>\n",
       "      <td>-8194607650924472520</td>\n",
       "      <td>ONLINE</td>\n",
       "      <td>NaN</td>\n",
       "      <td>...</td>\n",
       "      <td>NaN</td>\n",
       "      <td>La Verne</td>\n",
       "      <td>CA</td>\n",
       "      <td>91750</td>\n",
       "      <td>34.15</td>\n",
       "      <td>-117.76</td>\n",
       "      <td>$59696</td>\n",
       "      <td>$127613</td>\n",
       "      <td>787</td>\n",
       "      <td>5</td>\n",
       "    </tr>\n",
       "    <tr>\n",
       "      <th>1</th>\n",
       "      <td>0</td>\n",
       "      <td>2015</td>\n",
       "      <td>11</td>\n",
       "      <td>15</td>\n",
       "      <td>13:19</td>\n",
       "      <td>$2.41</td>\n",
       "      <td>Online Transaction</td>\n",
       "      <td>-7759074308363763111</td>\n",
       "      <td>ONLINE</td>\n",
       "      <td>NaN</td>\n",
       "      <td>...</td>\n",
       "      <td>NaN</td>\n",
       "      <td>La Verne</td>\n",
       "      <td>CA</td>\n",
       "      <td>91750</td>\n",
       "      <td>34.15</td>\n",
       "      <td>-117.76</td>\n",
       "      <td>$59696</td>\n",
       "      <td>$127613</td>\n",
       "      <td>787</td>\n",
       "      <td>5</td>\n",
       "    </tr>\n",
       "    <tr>\n",
       "      <th>2</th>\n",
       "      <td>0</td>\n",
       "      <td>2015</td>\n",
       "      <td>11</td>\n",
       "      <td>16</td>\n",
       "      <td>09:41</td>\n",
       "      <td>$50.81</td>\n",
       "      <td>Online Transaction</td>\n",
       "      <td>-551332107213382088</td>\n",
       "      <td>ONLINE</td>\n",
       "      <td>NaN</td>\n",
       "      <td>...</td>\n",
       "      <td>NaN</td>\n",
       "      <td>La Verne</td>\n",
       "      <td>CA</td>\n",
       "      <td>91750</td>\n",
       "      <td>34.15</td>\n",
       "      <td>-117.76</td>\n",
       "      <td>$59696</td>\n",
       "      <td>$127613</td>\n",
       "      <td>787</td>\n",
       "      <td>5</td>\n",
       "    </tr>\n",
       "    <tr>\n",
       "      <th>3</th>\n",
       "      <td>0</td>\n",
       "      <td>2015</td>\n",
       "      <td>11</td>\n",
       "      <td>16</td>\n",
       "      <td>09:46</td>\n",
       "      <td>$248.36</td>\n",
       "      <td>Online Transaction</td>\n",
       "      <td>4872340518840476610</td>\n",
       "      <td>ONLINE</td>\n",
       "      <td>NaN</td>\n",
       "      <td>...</td>\n",
       "      <td>NaN</td>\n",
       "      <td>La Verne</td>\n",
       "      <td>CA</td>\n",
       "      <td>91750</td>\n",
       "      <td>34.15</td>\n",
       "      <td>-117.76</td>\n",
       "      <td>$59696</td>\n",
       "      <td>$127613</td>\n",
       "      <td>787</td>\n",
       "      <td>5</td>\n",
       "    </tr>\n",
       "    <tr>\n",
       "      <th>4</th>\n",
       "      <td>0</td>\n",
       "      <td>2015</td>\n",
       "      <td>11</td>\n",
       "      <td>16</td>\n",
       "      <td>11:20</td>\n",
       "      <td>$473.00</td>\n",
       "      <td>Online Transaction</td>\n",
       "      <td>-8566951830324093739</td>\n",
       "      <td>ONLINE</td>\n",
       "      <td>NaN</td>\n",
       "      <td>...</td>\n",
       "      <td>NaN</td>\n",
       "      <td>La Verne</td>\n",
       "      <td>CA</td>\n",
       "      <td>91750</td>\n",
       "      <td>34.15</td>\n",
       "      <td>-117.76</td>\n",
       "      <td>$59696</td>\n",
       "      <td>$127613</td>\n",
       "      <td>787</td>\n",
       "      <td>5</td>\n",
       "    </tr>\n",
       "  </tbody>\n",
       "</table>\n",
       "<p>5 rows × 34 columns</p>\n",
       "</div>"
      ],
      "text/plain": [
       "   user_id  year  month  day   time   amount         card_method  \\\n",
       "0        0  2015     11   15  12:55  $287.13  Online Transaction   \n",
       "1        0  2015     11   15  13:19    $2.41  Online Transaction   \n",
       "2        0  2015     11   16  09:41   $50.81  Online Transaction   \n",
       "3        0  2015     11   16  09:46  $248.36  Online Transaction   \n",
       "4        0  2015     11   16  11:20  $473.00  Online Transaction   \n",
       "\n",
       "              merchant merchant_city merchant_state  ... user_apartment  \\\n",
       "0 -8194607650924472520        ONLINE            NaN  ...            NaN   \n",
       "1 -7759074308363763111        ONLINE            NaN  ...            NaN   \n",
       "2  -551332107213382088        ONLINE            NaN  ...            NaN   \n",
       "3  4872340518840476610        ONLINE            NaN  ...            NaN   \n",
       "4 -8566951830324093739        ONLINE            NaN  ...            NaN   \n",
       "\n",
       "   user_city user_state user_zip user_lat user_long user_income user_debt  \\\n",
       "0   La Verne         CA    91750    34.15   -117.76      $59696   $127613   \n",
       "1   La Verne         CA    91750    34.15   -117.76      $59696   $127613   \n",
       "2   La Verne         CA    91750    34.15   -117.76      $59696   $127613   \n",
       "3   La Verne         CA    91750    34.15   -117.76      $59696   $127613   \n",
       "4   La Verne         CA    91750    34.15   -117.76      $59696   $127613   \n",
       "\n",
       "  user_rating  user_number_of_cards  \n",
       "0         787                     5  \n",
       "1         787                     5  \n",
       "2         787                     5  \n",
       "3         787                     5  \n",
       "4         787                     5  \n",
       "\n",
       "[5 rows x 34 columns]"
      ]
     },
     "execution_count": 40,
     "metadata": {},
     "output_type": "execute_result"
    }
   ],
   "source": [
    "import pandas as pd\n",
    "import matplotlib.pyplot as plt\n",
    "\n",
    "df : pd.DataFrame = pd.read_csv(\"../data/credit_transactions.csv\", dtype={'merchant_zip':str})\n",
    "\n",
    "df.columns\n",
    "df.head()"
   ]
  },
  {
   "cell_type": "markdown",
   "metadata": {},
   "source": [
    "# Dropping Useless Columns"
   ]
  },
  {
   "cell_type": "code",
   "execution_count": 37,
   "metadata": {},
   "outputs": [],
   "source": [
    "df.drop(columns=['merchant'], inplace=True)"
   ]
  },
  {
   "cell_type": "markdown",
   "metadata": {},
   "source": [
    "# Fixing Easy Dtypes"
   ]
  },
  {
   "cell_type": "code",
   "execution_count": 41,
   "metadata": {},
   "outputs": [
    {
     "data": {
      "text/plain": [
       "0            NaN\n",
       "1            NaN\n",
       "2            NaN\n",
       "3            NaN\n",
       "4            NaN\n",
       "          ...   \n",
       "99752    91502.0\n",
       "99753    22079.0\n",
       "99754        NaN\n",
       "99755    95111.0\n",
       "99756    11563.0\n",
       "Name: merchant_zip, Length: 99757, dtype: object"
      ]
     },
     "execution_count": 41,
     "metadata": {},
     "output_type": "execute_result"
    }
   ],
   "source": [
    "df['merchant_zip']"
   ]
  },
  {
   "cell_type": "markdown",
   "metadata": {},
   "source": [
    "# Condensing Transaction Datetime"
   ]
  },
  {
   "cell_type": "code",
   "execution_count": 31,
   "metadata": {},
   "outputs": [],
   "source": [
    "from datetime import datetime\n",
    "\n",
    "def condense_time(row):\n",
    "    x = datetime(\n",
    "        int(row.year), \n",
    "        int(row.month), \n",
    "        int(row.day), \n",
    "        int(row.time.split(':')[0]), \n",
    "        int(row.time.split(':')[1])\n",
    "    )\n",
    "    return x\n",
    "\n",
    "df['purchase_date'] = df.apply(condense_time, axis=1)\n",
    "\n",
    "df.drop(columns=['year','month','day','time'], inplace=True)"
   ]
  },
  {
   "cell_type": "markdown",
   "metadata": {},
   "source": [
    "# Fixing Dollar Amounts"
   ]
  },
  {
   "cell_type": "code",
   "execution_count": 32,
   "metadata": {},
   "outputs": [],
   "source": [
    "df['amount'] = df['amount'].str.replace(\"$\", \"\").astype(float)"
   ]
  },
  {
   "cell_type": "markdown",
   "metadata": {},
   "source": [
    "# Adding External MCC Category Names"
   ]
  },
  {
   "cell_type": "code",
   "execution_count": 33,
   "metadata": {},
   "outputs": [],
   "source": [
    "mcc_df = pd.read_csv('../data/mcc_grouped.csv')\n",
    "\n",
    "def get_mcc_name(code):\n",
    "    matching_code = mcc_df.loc[(mcc_df['start'] <= code) & (code <= mcc_df['end'])]\n",
    "    if not matching_code.empty:\n",
    "        return matching_code['Business type'].iloc[0]\n",
    "    else:\n",
    "        return 'Unknown'\n",
    "    \n",
    "# Apply the custom function to create a new column in df\n",
    "df['mcc_group'] = df['merchant_code'].apply(get_mcc_name)\n",
    "\n",
    "df.drop(\n",
    "    columns=['merchant_code'], \n",
    "    errors='ignore',\n",
    "    inplace=True\n",
    ")"
   ]
  },
  {
   "cell_type": "code",
   "execution_count": 34,
   "metadata": {},
   "outputs": [],
   "source": [
    "df.to_csv('../data/cleaned.csv')"
   ]
  }
 ],
 "metadata": {
  "kernelspec": {
   "display_name": "base",
   "language": "python",
   "name": "python3"
  },
  "language_info": {
   "codemirror_mode": {
    "name": "ipython",
    "version": 3
   },
   "file_extension": ".py",
   "mimetype": "text/x-python",
   "name": "python",
   "nbconvert_exporter": "python",
   "pygments_lexer": "ipython3",
   "version": "3.10.12"
  }
 },
 "nbformat": 4,
 "nbformat_minor": 2
}
