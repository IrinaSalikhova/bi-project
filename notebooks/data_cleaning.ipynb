{
 "cells": [
  {
   "cell_type": "code",
   "execution_count": 31,
   "metadata": {},
   "outputs": [
    {
     "data": {
      "text/html": [
       "<div>\n",
       "<style scoped>\n",
       "    .dataframe tbody tr th:only-of-type {\n",
       "        vertical-align: middle;\n",
       "    }\n",
       "\n",
       "    .dataframe tbody tr th {\n",
       "        vertical-align: top;\n",
       "    }\n",
       "\n",
       "    .dataframe thead th {\n",
       "        text-align: right;\n",
       "    }\n",
       "</style>\n",
       "<table border=\"1\" class=\"dataframe\">\n",
       "  <thead>\n",
       "    <tr style=\"text-align: right;\">\n",
       "      <th></th>\n",
       "      <th>user_id</th>\n",
       "      <th>year</th>\n",
       "      <th>month</th>\n",
       "      <th>day</th>\n",
       "      <th>time</th>\n",
       "      <th>amount</th>\n",
       "      <th>card_method</th>\n",
       "      <th>merchant</th>\n",
       "      <th>merchant_city</th>\n",
       "      <th>merchant_state</th>\n",
       "      <th>...</th>\n",
       "      <th>user_apartment</th>\n",
       "      <th>user_city</th>\n",
       "      <th>user_state</th>\n",
       "      <th>user_zip</th>\n",
       "      <th>user_lat</th>\n",
       "      <th>user_long</th>\n",
       "      <th>user_income</th>\n",
       "      <th>user_debt</th>\n",
       "      <th>user_rating</th>\n",
       "      <th>user_number_of_cards</th>\n",
       "    </tr>\n",
       "  </thead>\n",
       "  <tbody>\n",
       "    <tr>\n",
       "      <th>0</th>\n",
       "      <td>0</td>\n",
       "      <td>2015</td>\n",
       "      <td>11</td>\n",
       "      <td>15</td>\n",
       "      <td>12:55</td>\n",
       "      <td>$287.13</td>\n",
       "      <td>Online Transaction</td>\n",
       "      <td>-8194607650924472520</td>\n",
       "      <td>ONLINE</td>\n",
       "      <td>NaN</td>\n",
       "      <td>...</td>\n",
       "      <td>NaN</td>\n",
       "      <td>La Verne</td>\n",
       "      <td>CA</td>\n",
       "      <td>91750</td>\n",
       "      <td>34.15</td>\n",
       "      <td>-117.76</td>\n",
       "      <td>$59696</td>\n",
       "      <td>$127613</td>\n",
       "      <td>787</td>\n",
       "      <td>5</td>\n",
       "    </tr>\n",
       "    <tr>\n",
       "      <th>1</th>\n",
       "      <td>0</td>\n",
       "      <td>2015</td>\n",
       "      <td>11</td>\n",
       "      <td>15</td>\n",
       "      <td>13:19</td>\n",
       "      <td>$2.41</td>\n",
       "      <td>Online Transaction</td>\n",
       "      <td>-7759074308363763111</td>\n",
       "      <td>ONLINE</td>\n",
       "      <td>NaN</td>\n",
       "      <td>...</td>\n",
       "      <td>NaN</td>\n",
       "      <td>La Verne</td>\n",
       "      <td>CA</td>\n",
       "      <td>91750</td>\n",
       "      <td>34.15</td>\n",
       "      <td>-117.76</td>\n",
       "      <td>$59696</td>\n",
       "      <td>$127613</td>\n",
       "      <td>787</td>\n",
       "      <td>5</td>\n",
       "    </tr>\n",
       "    <tr>\n",
       "      <th>2</th>\n",
       "      <td>0</td>\n",
       "      <td>2015</td>\n",
       "      <td>11</td>\n",
       "      <td>16</td>\n",
       "      <td>09:41</td>\n",
       "      <td>$50.81</td>\n",
       "      <td>Online Transaction</td>\n",
       "      <td>-551332107213382088</td>\n",
       "      <td>ONLINE</td>\n",
       "      <td>NaN</td>\n",
       "      <td>...</td>\n",
       "      <td>NaN</td>\n",
       "      <td>La Verne</td>\n",
       "      <td>CA</td>\n",
       "      <td>91750</td>\n",
       "      <td>34.15</td>\n",
       "      <td>-117.76</td>\n",
       "      <td>$59696</td>\n",
       "      <td>$127613</td>\n",
       "      <td>787</td>\n",
       "      <td>5</td>\n",
       "    </tr>\n",
       "    <tr>\n",
       "      <th>3</th>\n",
       "      <td>0</td>\n",
       "      <td>2015</td>\n",
       "      <td>11</td>\n",
       "      <td>16</td>\n",
       "      <td>09:46</td>\n",
       "      <td>$248.36</td>\n",
       "      <td>Online Transaction</td>\n",
       "      <td>4872340518840476610</td>\n",
       "      <td>ONLINE</td>\n",
       "      <td>NaN</td>\n",
       "      <td>...</td>\n",
       "      <td>NaN</td>\n",
       "      <td>La Verne</td>\n",
       "      <td>CA</td>\n",
       "      <td>91750</td>\n",
       "      <td>34.15</td>\n",
       "      <td>-117.76</td>\n",
       "      <td>$59696</td>\n",
       "      <td>$127613</td>\n",
       "      <td>787</td>\n",
       "      <td>5</td>\n",
       "    </tr>\n",
       "    <tr>\n",
       "      <th>4</th>\n",
       "      <td>0</td>\n",
       "      <td>2015</td>\n",
       "      <td>11</td>\n",
       "      <td>16</td>\n",
       "      <td>11:20</td>\n",
       "      <td>$473.00</td>\n",
       "      <td>Online Transaction</td>\n",
       "      <td>-8566951830324093739</td>\n",
       "      <td>ONLINE</td>\n",
       "      <td>NaN</td>\n",
       "      <td>...</td>\n",
       "      <td>NaN</td>\n",
       "      <td>La Verne</td>\n",
       "      <td>CA</td>\n",
       "      <td>91750</td>\n",
       "      <td>34.15</td>\n",
       "      <td>-117.76</td>\n",
       "      <td>$59696</td>\n",
       "      <td>$127613</td>\n",
       "      <td>787</td>\n",
       "      <td>5</td>\n",
       "    </tr>\n",
       "  </tbody>\n",
       "</table>\n",
       "<p>5 rows × 34 columns</p>\n",
       "</div>"
      ],
      "text/plain": [
       "   user_id  year  month  day   time   amount         card_method  \\\n",
       "0        0  2015     11   15  12:55  $287.13  Online Transaction   \n",
       "1        0  2015     11   15  13:19    $2.41  Online Transaction   \n",
       "2        0  2015     11   16  09:41   $50.81  Online Transaction   \n",
       "3        0  2015     11   16  09:46  $248.36  Online Transaction   \n",
       "4        0  2015     11   16  11:20  $473.00  Online Transaction   \n",
       "\n",
       "              merchant merchant_city merchant_state  ...  user_apartment  \\\n",
       "0 -8194607650924472520        ONLINE            NaN  ...             NaN   \n",
       "1 -7759074308363763111        ONLINE            NaN  ...             NaN   \n",
       "2  -551332107213382088        ONLINE            NaN  ...             NaN   \n",
       "3  4872340518840476610        ONLINE            NaN  ...             NaN   \n",
       "4 -8566951830324093739        ONLINE            NaN  ...             NaN   \n",
       "\n",
       "   user_city user_state user_zip user_lat user_long user_income user_debt  \\\n",
       "0   La Verne         CA    91750    34.15   -117.76      $59696   $127613   \n",
       "1   La Verne         CA    91750    34.15   -117.76      $59696   $127613   \n",
       "2   La Verne         CA    91750    34.15   -117.76      $59696   $127613   \n",
       "3   La Verne         CA    91750    34.15   -117.76      $59696   $127613   \n",
       "4   La Verne         CA    91750    34.15   -117.76      $59696   $127613   \n",
       "\n",
       "  user_rating  user_number_of_cards  \n",
       "0         787                     5  \n",
       "1         787                     5  \n",
       "2         787                     5  \n",
       "3         787                     5  \n",
       "4         787                     5  \n",
       "\n",
       "[5 rows x 34 columns]"
      ]
     },
     "execution_count": 31,
     "metadata": {},
     "output_type": "execute_result"
    }
   ],
   "source": [
    "import pandas as pd\n",
    "import matplotlib.pyplot as plt\n",
    "\n",
    "df = pd.read_csv(\"../data/credit_transactions.csv\")\n",
    "\n",
    "df.head()"
   ]
  },
  {
   "cell_type": "markdown",
   "metadata": {},
   "source": [
    "# Condensing Transaction Datetime"
   ]
  },
  {
   "cell_type": "code",
   "execution_count": 32,
   "metadata": {},
   "outputs": [],
   "source": [
    "from datetime import datetime\n",
    "\n",
    "def condense_time(row):\n",
    "    x = datetime(\n",
    "        int(row.year), \n",
    "        int(row.month), \n",
    "        int(row.day), \n",
    "        int(row.time.split(':')[0]), \n",
    "        int(row.time.split(':')[1])\n",
    "    )\n",
    "    return x\n",
    "\n",
    "df['purchase_date'] = df.apply(condense_time, axis=1)\n",
    "\n",
    "df.drop(columns=['year','month','day','time'], inplace=True)"
   ]
  },
  {
   "cell_type": "markdown",
   "metadata": {},
   "source": [
    "# Fixing Dollar Amounts"
   ]
  },
  {
   "cell_type": "code",
   "execution_count": 33,
   "metadata": {},
   "outputs": [],
   "source": [
    "df['amount'] = df['amount'].str.replace(\"$\", \"\").astype(float)"
   ]
  },
  {
   "cell_type": "markdown",
   "metadata": {},
   "source": [
    "# Adding External MCC Category Names"
   ]
  },
  {
   "cell_type": "code",
   "execution_count": 34,
   "metadata": {},
   "outputs": [],
   "source": [
    "# read additional dataset for grouped merchant columns \n",
    "mcc_df = pd.read_csv('../data/mcc_grouped.csv')\n",
    "\n",
    "# create the custom function to identify the matching business type for merchant code\n",
    "def get_mcc_name(code):\n",
    "    matching_code = mcc_df.loc[(mcc_df['start'] <= code) & (code <= mcc_df['end'])]\n",
    "    if not matching_code.empty:\n",
    "        return matching_code['Business type'].iloc[0]\n",
    "    else:\n",
    "        return 'Unknown'\n",
    "    \n",
    "# Apply the custom function to create a new column in df\n",
    "df['mcc_group'] = df['merchant_code'].apply(get_mcc_name)\n",
    "\n",
    "#df.drop(\n",
    "#    columns=['mcc'], \n",
    "#    inplace=True\n",
    "#)"
   ]
  },
  {
   "cell_type": "code",
   "execution_count": 35,
   "metadata": {},
   "outputs": [
    {
     "data": {
      "text/plain": [
       "mcc_group\n",
       "Retail outlet services                                44586\n",
       "Miscellaneous stores                                  23902\n",
       "Transportation services                                9178\n",
       "Utility services                                       8140\n",
       "Business services                                      5797\n",
       "Unknown                                                5098\n",
       "Clothing stores                                        1671\n",
       "Professional services and membership organizations      777\n",
       "Government services                                     598\n",
       "Contracted services                                      10\n",
       "Name: count, dtype: int64"
      ]
     },
     "execution_count": 35,
     "metadata": {},
     "output_type": "execute_result"
    }
   ],
   "source": [
    "df['mcc_group'].value_counts()"
   ]
  },
  {
   "cell_type": "code",
   "execution_count": 36,
   "metadata": {},
   "outputs": [
    {
     "name": "stdout",
     "output_type": "stream",
     "text": [
      "       state_match merchant_state user_state\n",
      "0            False            NaN         CA\n",
      "1            False            NaN         CA\n",
      "2            False            NaN         CA\n",
      "3            False            NaN         CA\n",
      "4            False            NaN         CA\n",
      "...            ...            ...        ...\n",
      "99752         True             CA         CA\n",
      "99753         True             VA         VA\n",
      "99754        False            NaN         MD\n",
      "99755         True             CA         CA\n",
      "99756         True             NY         NY\n",
      "\n",
      "[99757 rows x 3 columns]\n"
     ]
    },
    {
     "data": {
      "text/plain": [
       "state_match\n",
       "True     59622\n",
       "False    40135\n",
       "Name: count, dtype: int64"
      ]
     },
     "execution_count": 36,
     "metadata": {},
     "output_type": "execute_result"
    }
   ],
   "source": [
    "# create new boolean column (feature engineering) to check if merchant and user states matches\n",
    "df['state_match']=df['merchant_state'] == df['user_state']\n",
    "\n",
    "#check results\n",
    "selected_columns = ['state_match', 'merchant_state', 'user_state']\n",
    "result_df = df[selected_columns]\n",
    "print(result_df)\n",
    "df['state_match'].value_counts()"
   ]
  },
  {
   "cell_type": "code",
   "execution_count": 37,
   "metadata": {},
   "outputs": [
    {
     "name": "stdout",
     "output_type": "stream",
     "text": [
      "       city_match merchant_city     user_city\n",
      "0           False        ONLINE      La Verne\n",
      "1           False        ONLINE      La Verne\n",
      "2           False        ONLINE      La Verne\n",
      "3           False        ONLINE      La Verne\n",
      "4           False        ONLINE      La Verne\n",
      "...           ...           ...           ...\n",
      "99752       False       Burbank      Van Nuys\n",
      "99753        True        Lorton        Lorton\n",
      "99754       False        ONLINE  Gaithersburg\n",
      "99755       False      San Jose   Watsonville\n",
      "99756       False      Lynbrook      Freeport\n",
      "\n",
      "[99757 rows x 3 columns]\n"
     ]
    },
    {
     "data": {
      "text/plain": [
       "city_match\n",
       "False    59278\n",
       "True     40479\n",
       "Name: count, dtype: int64"
      ]
     },
     "execution_count": 37,
     "metadata": {},
     "output_type": "execute_result"
    }
   ],
   "source": [
    "# create new boolean column (feature engineering) to check if merchant and user cities matches\n",
    "df['city_match']=df['merchant_city'] == df['user_city']\n",
    "\n",
    "#check results\n",
    "df['city_match'].value_counts()\n",
    "selected_columns = ['city_match', 'merchant_city', 'user_city']\n",
    "result_df = df[selected_columns]\n",
    "print(result_df)\n",
    "df['city_match'].value_counts()\n"
   ]
  },
  {
   "cell_type": "code",
   "execution_count": 38,
   "metadata": {},
   "outputs": [
    {
     "name": "stdout",
     "output_type": "stream",
     "text": [
      "errors\n",
      "Insufficient Balance                     1117\n",
      "Bad PIN                                   475\n",
      "Bad CVV                                   309\n",
      "Technical Glitch                          193\n",
      "Bad Card Number                           151\n",
      "Bad Expiration                            141\n",
      "Bad PIN,Insufficient Balance               11\n",
      "Bad Zipcode                                 7\n",
      "Bad CVV,Insufficient Balance                4\n",
      "Bad Expiration,Bad CVV                      2\n",
      "Bad Expiration,Technical Glitch             2\n",
      "Bad Card Number,Insufficient Balance        2\n",
      "Bad PIN,Technical Glitch                    2\n",
      "Bad CVV,Technical Glitch                    2\n",
      "Insufficient Balance,Technical Glitch       1\n",
      "Bad Expiration,Insufficient Balance         1\n",
      "Bad Zipcode,Insufficient Balance            1\n",
      "Name: count, dtype: int64\n"
     ]
    },
    {
     "data": {
      "text/plain": [
       "bad_pin\n",
       "0    99269\n",
       "1      488\n",
       "Name: count, dtype: int64"
      ]
     },
     "execution_count": 38,
     "metadata": {},
     "output_type": "execute_result"
    }
   ],
   "source": [
    "# display initial condition\n",
    "print(df['errors'].value_counts())\n",
    "\n",
    "# split the values in the 'errors' column and create a new DataFrame with dummy variables\n",
    "errors_dummies = df['errors'].str.get_dummies(sep=',')\n",
    "errors_dummies\n",
    "\n",
    "# Giving columns more concise names, allowing us to access via .notation\n",
    "errors_dummies.rename(\n",
    "    columns={\n",
    "        'Insufficient Balance' : 'insuf_balance',\n",
    "        'Bad PIN'              : 'bad_pin',\n",
    "        'Bad CVV'              : 'bad_cvv',\n",
    "        'Bad Card Number'      : 'bad_card_number',\n",
    "        'Bad Expiration'       : 'bad_expir',\n",
    "        'Bad Zipcode'          : 'bad_zip',\n",
    "        'Technical Glitch'     : 'tech_glitch',\n",
    "    }, inplace= True\n",
    ")\n",
    "errors_dummies\n",
    "\n",
    "# concatenate the new DataFrame with the original DataFrame\n",
    "df = pd.concat([df, errors_dummies], axis=1)\n",
    "\n",
    "# drop errors column\n",
    "df.drop(columns={'errors'}, inplace= True)\n",
    "\n",
    "# Display the result for bad_pin to check\n",
    "df['bad_pin'].value_counts()\n"
   ]
  },
  {
   "cell_type": "code",
   "execution_count": null,
   "metadata": {},
   "outputs": [],
   "source": []
  }
 ],
 "metadata": {
  "kernelspec": {
   "display_name": "base",
   "language": "python",
   "name": "python3"
  },
  "language_info": {
   "codemirror_mode": {
    "name": "ipython",
    "version": 3
   },
   "file_extension": ".py",
   "mimetype": "text/x-python",
   "name": "python",
   "nbconvert_exporter": "python",
   "pygments_lexer": "ipython3",
   "version": "3.10.13"
  }
 },
 "nbformat": 4,
 "nbformat_minor": 2
}
