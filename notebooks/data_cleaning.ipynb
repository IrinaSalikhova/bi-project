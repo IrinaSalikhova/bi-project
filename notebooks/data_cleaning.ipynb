{
 "cells": [
  {
   "cell_type": "code",
   "execution_count": null,
   "metadata": {},
   "outputs": [],
   "source": [
    "import pandas as pd\n",
    "import matplotlib.pyplot as plt\n",
    "from datetime import datetime\n",
    "df : pd.DataFrame = pd.read_csv(\"../data/credit_transactions.csv\")\n",
    "\n",
    "print(df.columns)\n",
    "df.head()"
   ]
  },
  {
   "cell_type": "markdown",
   "metadata": {},
   "source": [
    "# Dropping Useless Columns"
   ]
  },
  {
   "cell_type": "code",
   "execution_count": null,
   "metadata": {},
   "outputs": [],
   "source": [
    "df.drop(columns=[\n",
    "    'merchant',     # It's been obsfucated\n",
    "    'merchant_zip', # We don't need it\n",
    "    'user_address', # We don't need it\n",
    "    'user_apartment', # We don't need it\n",
    "    'user_zip',         # We don't need it\n",
    "    'user_lat',\n",
    "    'user_long',\n",
    "], inplace=True)"
   ]
  },
  {
   "cell_type": "markdown",
   "metadata": {},
   "source": [
    "# Fixing mm/ yy date formats"
   ]
  },
  {
   "cell_type": "code",
   "execution_count": null,
   "metadata": {},
   "outputs": [],
   "source": [
    "df['card_expiry_date'].value_counts()\n",
    "df[['card_expiry_date', 'card_issue_date', 'card_last_pin']].dtypes"
   ]
  },
  {
   "cell_type": "code",
   "execution_count": null,
   "metadata": {},
   "outputs": [],
   "source": [
    "df['card_expiry_date'] = df['card_expiry_date'].apply(lambda x: datetime.strptime(x, \"%m/%Y\"))\n",
    "df['card_issue_date'] = df['card_issue_date'].apply(lambda x: datetime.strptime(x, \"%m/%Y\"))\n",
    "df['card_last_pin'] = df['card_last_pin'].astype(str).apply(lambda x: datetime.strptime(str(x), \"%Y\"))\n",
    "\n",
    "df[['card_expiry_date', 'card_issue_date', 'card_last_pin']].dtypes"
   ]
  },
  {
   "cell_type": "markdown",
   "metadata": {},
   "source": [
    "# Fixing Easy Dtypes"
   ]
  },
  {
   "cell_type": "code",
   "execution_count": null,
   "metadata": {},
   "outputs": [],
   "source": [
    "df['flagged_as_fraud'] = df['flagged_as_fraud'].replace({'Yes':True, 'No':False})"
   ]
  },
  {
   "cell_type": "markdown",
   "metadata": {},
   "source": [
    "# Condensing Transaction Datetime"
   ]
  },
  {
   "cell_type": "code",
   "execution_count": null,
   "metadata": {},
   "outputs": [],
   "source": [
    "from datetime import datetime\n",
    "\n",
    "def condense_time(row):\n",
    "    x = datetime(\n",
    "        int(row.year), \n",
    "        int(row.month), \n",
    "        int(row.day), \n",
    "        int(row.time.split(':')[0]), \n",
    "        int(row.time.split(':')[1])\n",
    "    )\n",
    "    return x\n",
    "\n",
    "df['purchase_date'] = df.apply(condense_time, axis=1)\n",
    "\n",
    "df.drop(columns=['year','month','day','time'], inplace=True)"
   ]
  },
  {
   "cell_type": "markdown",
   "metadata": {},
   "source": [
    "# Fixing Dollar Amounts"
   ]
  },
  {
   "cell_type": "code",
   "execution_count": null,
   "metadata": {},
   "outputs": [],
   "source": [
    "dedollarizer = lambda s: float(s.lstrip(\"$\"))\n",
    "\n",
    "df['amount'] = df['amount'].apply(dedollarizer)\n",
    "df['user_income'] = df['user_income'].apply(dedollarizer)\n",
    "df['user_debt'] = df['user_debt'].apply(dedollarizer)\n",
    "df['card_limit'] = df['card_limit'].apply(dedollarizer)\n",
    "\n",
    "df[['amount', 'user_income', 'user_debt', 'card_limit']]\n"
   ]
  },
  {
   "cell_type": "markdown",
   "metadata": {},
   "source": [
    "# Adding External MCC Category Names"
   ]
  },
  {
   "cell_type": "code",
   "execution_count": null,
   "metadata": {},
   "outputs": [],
   "source": [
    "# read additional dataset for grouped merchant columns \n",
    "mcc_df = pd.read_csv('../data/mcc_grouped.csv')\n",
    "\n",
    "# create the custom function to identify the matching business type for merchant code\n",
    "def get_mcc_name(code):\n",
    "    matching_code = mcc_df.loc[(mcc_df['start'] <= code) & (code <= mcc_df['end'])]\n",
    "    if not matching_code.empty:\n",
    "        return matching_code['Business type'].iloc[0]\n",
    "    else:\n",
    "        return 'Unknown'\n",
    "    \n",
    "# Apply the custom function to create a new column in df\n",
    "df['mcc_group'] = df['merchant_code'].apply(get_mcc_name)\n"
   ]
  },
  {
   "cell_type": "code",
   "execution_count": null,
   "metadata": {},
   "outputs": [],
   "source": [
    "# create new boolean column (feature engineering) to check if merchant and user states matches\n",
    "df['state_match']=df['merchant_state'] == df['user_state']\n",
    "\n",
    "#check results\n",
    "selected_columns = ['state_match', 'merchant_state', 'user_state']\n",
    "result_df = df[selected_columns]\n",
    "print(result_df)\n",
    "df['state_match'].value_counts()"
   ]
  },
  {
   "cell_type": "code",
   "execution_count": null,
   "metadata": {},
   "outputs": [],
   "source": [
    "# create new boolean column (feature engineering) to check if merchant and user cities matches\n",
    "df['city_match'] = df['merchant_city'] == df['user_city']\n",
    "\n",
    "#check results\n",
    "df['city_match'].value_counts()\n",
    "selected_columns = ['city_match', 'merchant_city', 'user_city']\n",
    "result_df = df[selected_columns]\n",
    "print(result_df)\n",
    "df['city_match'].value_counts()"
   ]
  },
  {
   "cell_type": "code",
   "execution_count": null,
   "metadata": {},
   "outputs": [],
   "source": [
    "# display initial condition\n",
    "print(df['errors'].value_counts())\n",
    "\n",
    "# save absolute error column\n",
    "df['error'] = df['errors'].fillna(False).astype(bool)\n",
    "\n",
    "# split the values in the 'errors' column and create a new DataFrame with dummy variables\n",
    "errors_dummies = df['errors'].str.get_dummies(sep=',')\n",
    "errors_dummies\n",
    "\n",
    "# Giving columns more concise names, allowing us to access via .notation\n",
    "errors_dummies.rename(\n",
    "    columns={\n",
    "        'Insufficient Balance' : 'insuf_balance',\n",
    "        'Bad PIN'              : 'bad_pin',\n",
    "        'Bad CVV'              : 'bad_cvv',\n",
    "        'Bad Card Number'      : 'bad_card_number',\n",
    "        'Bad Expiration'       : 'bad_expir',\n",
    "        'Bad Zipcode'          : 'bad_zip',\n",
    "        'Technical Glitch'     : 'tech_glitch',\n",
    "    }, inplace= True\n",
    ")\n",
    "errors_dummies\n",
    "\n",
    "# concatenate the new DataFrame with the original DataFrame\n",
    "df = pd.concat([df, errors_dummies], axis=1)\n",
    "\n",
    "# drop errors column\n",
    "df.drop(columns={'errors'}, inplace= True)\n",
    "\n",
    "# Display the result for bad_pin to check\n",
    "df['bad_pin'].value_counts()"
   ]
  },
  {
   "cell_type": "code",
   "execution_count": null,
   "metadata": {},
   "outputs": [],
   "source": [
    "# create new column (feature engineering) with the difference between user actual age and retirement age\n",
    "df['retirement_age']=(df.user_retirement - df.user_age).astype(int)\n",
    "\n",
    "#check if everything ok\n",
    "df['retirement_age'].sort_values()\n",
    "\n",
    "# Add categorical version\n",
    "df['is_retired'] = (df.user_retirement - df.user_age)<=0 "
   ]
  },
  {
   "cell_type": "code",
   "execution_count": null,
   "metadata": {},
   "outputs": [],
   "source": [
    "# drop retirement age column\n",
    "df.drop(columns={'user_retirement'}, inplace= True)"
   ]
  },
  {
   "cell_type": "markdown",
   "metadata": {},
   "source": [
    "# Card Age at time of purchase"
   ]
  },
  {
   "cell_type": "code",
   "execution_count": null,
   "metadata": {},
   "outputs": [],
   "source": [
    "# create new column (feature engineering) with the card age to operation date\n",
    "df['card_age']=(df.purchase_date - df.card_issue_date)\n",
    "\n",
    "# Use boolean indexing to filter rows where card_age is not negative since negative results do not make sense \n",
    "df = df[df['card_age'] >= pd.Timedelta(0)]\n",
    "\n",
    "# for result checking use boolean indexing to filter rows where purchase_date < card_issue_date\n",
    "filtered_rows = df[df['purchase_date'] < df['card_issue_date']]\n",
    "\n",
    "# Display the result\n",
    "print(filtered_rows['purchase_date'], filtered_rows['card_issue_date'])"
   ]
  },
  {
   "cell_type": "markdown",
   "metadata": {},
   "source": [
    "# Looking at purchase date vs Expiry date"
   ]
  },
  {
   "cell_type": "code",
   "execution_count": null,
   "metadata": {},
   "outputs": [],
   "source": [
    "display_cols = ['purchase_date', 'card_expiry_date', 'flagged_as_fraud', 'error']\n",
    "\n",
    "#legal   = df.loc[df['purchase_date']<=df['card_expiry_date']]\n",
    "#illegal = df.loc[df['purchase_date']>=df['card_expiry_date']]\n",
    "\n",
    "\n",
    "df['is_card_expired'] = df['purchase_date']>= df['card_expiry_date']"
   ]
  },
  {
   "cell_type": "markdown",
   "metadata": {},
   "source": [
    "# Last Pin Change"
   ]
  },
  {
   "cell_type": "code",
   "execution_count": null,
   "metadata": {},
   "outputs": [],
   "source": [
    "# create new column (feature engineering) with the years of operation date to the last pin\n",
    "df['since_last_pin']=(df.purchase_date - df.card_last_pin)\n",
    "\n",
    "# results could be negative "
   ]
  },
  {
   "cell_type": "markdown",
   "metadata": {},
   "source": [
    "# Log Amount"
   ]
  },
  {
   "cell_type": "code",
   "execution_count": null,
   "metadata": {},
   "outputs": [],
   "source": [
    "import math\n",
    "\n",
    "def logarithm(val):\n",
    "    try:\n",
    "        return math.log(abs(val))\n",
    "    except:\n",
    "        return val\n",
    "\n",
    "df['log_amount'] = df['amount'].apply(logarithm)"
   ]
  },
  {
   "cell_type": "code",
   "execution_count": null,
   "metadata": {},
   "outputs": [],
   "source": [
    "df.to_csv('../data/cleaned.csv', index=False)"
   ]
  }
 ],
 "metadata": {
  "kernelspec": {
   "display_name": "base",
   "language": "python",
   "name": "python3"
  },
  "language_info": {
   "codemirror_mode": {
    "name": "ipython",
    "version": 3
   },
   "file_extension": ".py",
   "mimetype": "text/x-python",
   "name": "python",
   "nbconvert_exporter": "python",
   "pygments_lexer": "ipython3",
   "version": "3.10.13"
  }
 },
 "nbformat": 4,
 "nbformat_minor": 2
}
