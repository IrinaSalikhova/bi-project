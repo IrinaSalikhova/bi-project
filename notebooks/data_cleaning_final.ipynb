{
 "cells": [
  {
   "cell_type": "code",
   "execution_count": 84,
   "metadata": {},
   "outputs": [],
   "source": [
    "import pandas as pd\n",
    "import numpy as np\n",
    "from datetime import datetime\n",
    "\n",
    "df = pd.read_csv('../data/credit_card_fraud.csv')"
   ]
  },
  {
   "cell_type": "markdown",
   "metadata": {},
   "source": [
    "# Rename and Drop Columns"
   ]
  },
  {
   "cell_type": "code",
   "execution_count": 85,
   "metadata": {},
   "outputs": [],
   "source": [
    "# Dropping columns we won't use as they are either obfuscated or of little interest.\n",
    "df.drop(\n",
    "    columns=[\n",
    "        'Cardholder Name',\n",
    "        'Card Number (Hashed or Encrypted)',\n",
    "        'CVV Code (Hashed or Encrypted)',\n",
    "        'Transaction ID',\n",
    "        'IP Address',\n",
    "        'Transaction Notes',\n",
    "        'User Account Information' ],\n",
    "    inplace=True,\n",
    "    errors='ingore'\n",
    ")\n",
    "\n",
    "# Giving columns more concise names, allowing us to access via .notation\n",
    "df.rename(\n",
    "    columns={\n",
    "        'Transaction Date and Time'                 : 'datetime',\n",
    "        'Transaction Amount'                        : 'amount',\n",
    "#        'Cardholder Name'                           : 'cardholder',\n",
    "        'Merchant Name'                             : 'merchant',\n",
    "        'Merchant Category Code (MCC)'              : 'mcc',\n",
    "        'Transaction Location (City or ZIP Code)'   : 'location',\n",
    "        'Card Expiration Date'                      : 'exp_date',\n",
    "        'Transaction Currency'                      : 'currency',\n",
    "        'Card Type'                                 : 'card_type',\n",
    "        'Card Expiration Date'                      : 'card_exp_date',\n",
    "        'Transaction Response Code'                 : 'response_code',\n",
    "        'Fraud Flag or Label'                       : 'flagged_as_fraud',\n",
    "        'Previous Transactions'                     : 'previous_transactions',\n",
    "        'Transaction Source'                        : 'source',\n",
    "        'Device Information'                        : 'device',\n",
    "#        'User Account Information'                  : 'user_account'\n",
    "    }, inplace= True\n",
    ")"
   ]
  },
  {
   "cell_type": "markdown",
   "metadata": {},
   "source": [
    "# Fix Data Types"
   ]
  },
  {
   "cell_type": "code",
   "execution_count": 86,
   "metadata": {},
   "outputs": [
    {
     "name": "stdout",
     "output_type": "stream",
     "text": [
      "datetime                 datetime64[ns]\n",
      "amount                          float64\n",
      "merchant                         object\n",
      "mcc                               int64\n",
      "location                         object\n",
      "currency                         object\n",
      "card_type                        object\n",
      "card_exp_date            datetime64[ns]\n",
      "response_code                     int64\n",
      "flagged_as_fraud                   bool\n",
      "previous_transactions             int64\n",
      "source                           object\n",
      "device                           object\n",
      "dtype: object\n"
     ]
    },
    {
     "data": {
      "text/html": [
       "<div>\n",
       "<style scoped>\n",
       "    .dataframe tbody tr th:only-of-type {\n",
       "        vertical-align: middle;\n",
       "    }\n",
       "\n",
       "    .dataframe tbody tr th {\n",
       "        vertical-align: top;\n",
       "    }\n",
       "\n",
       "    .dataframe thead th {\n",
       "        text-align: right;\n",
       "    }\n",
       "</style>\n",
       "<table border=\"1\" class=\"dataframe\">\n",
       "  <thead>\n",
       "    <tr style=\"text-align: right;\">\n",
       "      <th></th>\n",
       "      <th>datetime</th>\n",
       "      <th>amount</th>\n",
       "      <th>merchant</th>\n",
       "      <th>mcc</th>\n",
       "      <th>location</th>\n",
       "      <th>currency</th>\n",
       "      <th>card_type</th>\n",
       "      <th>card_exp_date</th>\n",
       "      <th>response_code</th>\n",
       "      <th>flagged_as_fraud</th>\n",
       "      <th>previous_transactions</th>\n",
       "      <th>source</th>\n",
       "      <th>device</th>\n",
       "    </tr>\n",
       "  </thead>\n",
       "  <tbody>\n",
       "    <tr>\n",
       "      <th>0</th>\n",
       "      <td>2022-09-24 13:54:27</td>\n",
       "      <td>285.88</td>\n",
       "      <td>Rajagopalan, Ghose and Kant</td>\n",
       "      <td>3590</td>\n",
       "      <td>Khammam</td>\n",
       "      <td>INR</td>\n",
       "      <td>MasterCard</td>\n",
       "      <td>2029-04-01</td>\n",
       "      <td>5</td>\n",
       "      <td>True</td>\n",
       "      <td>0</td>\n",
       "      <td>Online</td>\n",
       "      <td>Tablet</td>\n",
       "    </tr>\n",
       "    <tr>\n",
       "      <th>1</th>\n",
       "      <td>2020-07-24 11:20:13</td>\n",
       "      <td>1777.32</td>\n",
       "      <td>Sule PLC</td>\n",
       "      <td>7277</td>\n",
       "      <td>Vasai-Virar</td>\n",
       "      <td>EUR</td>\n",
       "      <td>American Express</td>\n",
       "      <td>2026-03-01</td>\n",
       "      <td>12</td>\n",
       "      <td>True</td>\n",
       "      <td>0</td>\n",
       "      <td>Online</td>\n",
       "      <td>Mobile</td>\n",
       "    </tr>\n",
       "    <tr>\n",
       "      <th>2</th>\n",
       "      <td>2023-03-18 01:05:36</td>\n",
       "      <td>3939.01</td>\n",
       "      <td>Badal PLC</td>\n",
       "      <td>9297</td>\n",
       "      <td>Nangloi Jat</td>\n",
       "      <td>USD</td>\n",
       "      <td>Visa</td>\n",
       "      <td>2029-11-01</td>\n",
       "      <td>5</td>\n",
       "      <td>True</td>\n",
       "      <td>3</td>\n",
       "      <td>In-Person</td>\n",
       "      <td>Mobile</td>\n",
       "    </tr>\n",
       "    <tr>\n",
       "      <th>3</th>\n",
       "      <td>2021-01-07 21:53:04</td>\n",
       "      <td>376.44</td>\n",
       "      <td>Konda-Sodhi</td>\n",
       "      <td>5686</td>\n",
       "      <td>Ramagundam</td>\n",
       "      <td>USD</td>\n",
       "      <td>Visa</td>\n",
       "      <td>2025-09-01</td>\n",
       "      <td>5</td>\n",
       "      <td>False</td>\n",
       "      <td>2</td>\n",
       "      <td>In-Person</td>\n",
       "      <td>Tablet</td>\n",
       "    </tr>\n",
       "    <tr>\n",
       "      <th>4</th>\n",
       "      <td>2021-12-16 06:22:24</td>\n",
       "      <td>1687.33</td>\n",
       "      <td>Dua Ltd</td>\n",
       "      <td>2940</td>\n",
       "      <td>Adoni</td>\n",
       "      <td>INR</td>\n",
       "      <td>MasterCard</td>\n",
       "      <td>2031-03-01</td>\n",
       "      <td>5</td>\n",
       "      <td>True</td>\n",
       "      <td>2</td>\n",
       "      <td>Online</td>\n",
       "      <td>Desktop</td>\n",
       "    </tr>\n",
       "  </tbody>\n",
       "</table>\n",
       "</div>"
      ],
      "text/plain": [
       "             datetime   amount                     merchant   mcc  \\\n",
       "0 2022-09-24 13:54:27   285.88  Rajagopalan, Ghose and Kant  3590   \n",
       "1 2020-07-24 11:20:13  1777.32                     Sule PLC  7277   \n",
       "2 2023-03-18 01:05:36  3939.01                    Badal PLC  9297   \n",
       "3 2021-01-07 21:53:04   376.44                  Konda-Sodhi  5686   \n",
       "4 2021-12-16 06:22:24  1687.33                      Dua Ltd  2940   \n",
       "\n",
       "      location currency         card_type card_exp_date  response_code  \\\n",
       "0      Khammam      INR        MasterCard    2029-04-01              5   \n",
       "1  Vasai-Virar      EUR  American Express    2026-03-01             12   \n",
       "2  Nangloi Jat      USD              Visa    2029-11-01              5   \n",
       "3   Ramagundam      USD              Visa    2025-09-01              5   \n",
       "4        Adoni      INR        MasterCard    2031-03-01              5   \n",
       "\n",
       "   flagged_as_fraud  previous_transactions     source   device  \n",
       "0              True                      0     Online   Tablet  \n",
       "1              True                      0     Online   Mobile  \n",
       "2              True                      3  In-Person   Mobile  \n",
       "3             False                      2  In-Person   Tablet  \n",
       "4              True                      2     Online  Desktop  "
      ]
     },
     "execution_count": 86,
     "metadata": {},
     "output_type": "execute_result"
    }
   ],
   "source": [
    "df['datetime'] = pd.to_datetime(df['datetime'])\n",
    "df['flagged_as_fraud'] = df['flagged_as_fraud'].astype('bool')\n",
    "df['previous_transactions'] = df['previous_transactions'].replace({None:0,'1':1,'2':2,'3 or more':3})\n",
    "df['response_code'] = df['response_code'].replace({0 : 'Accepted', 12 : 'Declined', 5 : 'Invalid' })\n",
    "df['card_exp_date'] = df['card_exp_date'].apply(lambda x: datetime.strptime(x, \"%m/%y\"))\n",
    "\n",
    "print(df.dtypes)\n",
    "df.head(5)"
   ]
  },
  {
   "cell_type": "markdown",
   "metadata": {},
   "source": [
    "# Creating MCC groups"
   ]
  },
  {
   "cell_type": "code",
   "execution_count": 87,
   "metadata": {},
   "outputs": [
    {
     "data": {
      "text/plain": [
       "Business type    object\n",
       "start             int64\n",
       "end               int64\n",
       "dtype: object"
      ]
     },
     "execution_count": 87,
     "metadata": {},
     "output_type": "execute_result"
    }
   ],
   "source": [
    "mcc_df = pd.read_csv('../data/mcc_grouped.csv')\n",
    "\n",
    "def get_mcc_name(code):\n",
    "    matching_code = mcc_df.loc[(mcc_df['start'] <= code) & (code <= mcc_df['end'])]\n",
    "    if not matching_code.empty:\n",
    "        return matching_code['Business type'].iloc[0]\n",
    "    else:\n",
    "        return 'Unknown'\n",
    "    \n",
    "# Apply the custom function to create a new column in df\n",
    "df['mcc_group'] = df['mcc'].apply(get_mcc_name)\n",
    "\n",
    "df.drop(\n",
    "    columns=['mcc'], \n",
    "    inplace=True\n",
    ")"
   ]
  },
  {
   "cell_type": "markdown",
   "metadata": {},
   "source": [
    "# Outlier Removal"
   ]
  },
  {
   "cell_type": "code",
   "execution_count": 89,
   "metadata": {},
   "outputs": [
    {
     "data": {
      "text/plain": [
       "datetime                 datetime64[ns]\n",
       "amount                          float64\n",
       "merchant                         object\n",
       "mcc                               int64\n",
       "location                         object\n",
       "currency                         object\n",
       "card_type                        object\n",
       "card_exp_date            datetime64[ns]\n",
       "response_code                     int64\n",
       "flagged_as_fraud                   bool\n",
       "previous_transactions             int64\n",
       "source                           object\n",
       "device                           object\n",
       "mcc_group                        object\n",
       "dtype: object"
      ]
     },
     "execution_count": 89,
     "metadata": {},
     "output_type": "execute_result"
    }
   ],
   "source": [
    "df.dtypes\n"
   ]
  }
 ],
 "metadata": {
  "kernelspec": {
   "display_name": "base",
   "language": "python",
   "name": "python3"
  },
  "language_info": {
   "codemirror_mode": {
    "name": "ipython",
    "version": 3
   },
   "file_extension": ".py",
   "mimetype": "text/x-python",
   "name": "python",
   "nbconvert_exporter": "python",
   "pygments_lexer": "ipython3",
   "version": "3.10.12"
  }
 },
 "nbformat": 4,
 "nbformat_minor": 2
}
