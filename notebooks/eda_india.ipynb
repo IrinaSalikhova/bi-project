{
 "cells": [
  {
   "cell_type": "code",
   "execution_count": 2,
   "metadata": {},
   "outputs": [],
   "source": [
    "import pandas as pd\n",
    "import seaborn as sns\n",
    "import matplotlib.pyplot as plt"
   ]
  },
  {
   "cell_type": "code",
   "execution_count": 3,
   "metadata": {},
   "outputs": [
    {
     "name": "stdout",
     "output_type": "stream",
     "text": [
      "(8000, 20)\n"
     ]
    },
    {
     "data": {
      "text/html": [
       "<div>\n",
       "<style scoped>\n",
       "    .dataframe tbody tr th:only-of-type {\n",
       "        vertical-align: middle;\n",
       "    }\n",
       "\n",
       "    .dataframe tbody tr th {\n",
       "        vertical-align: top;\n",
       "    }\n",
       "\n",
       "    .dataframe thead th {\n",
       "        text-align: right;\n",
       "    }\n",
       "</style>\n",
       "<table border=\"1\" class=\"dataframe\">\n",
       "  <thead>\n",
       "    <tr style=\"text-align: right;\">\n",
       "      <th></th>\n",
       "      <th>Transaction Date and Time</th>\n",
       "      <th>Transaction Amount</th>\n",
       "      <th>Cardholder Name</th>\n",
       "      <th>Card Number (Hashed or Encrypted)</th>\n",
       "      <th>Merchant Name</th>\n",
       "      <th>Merchant Category Code (MCC)</th>\n",
       "      <th>Transaction Location (City or ZIP Code)</th>\n",
       "      <th>Transaction Currency</th>\n",
       "      <th>Card Type</th>\n",
       "      <th>Card Expiration Date</th>\n",
       "      <th>CVV Code (Hashed or Encrypted)</th>\n",
       "      <th>Transaction Response Code</th>\n",
       "      <th>Transaction ID</th>\n",
       "      <th>Fraud Flag or Label</th>\n",
       "      <th>Previous Transactions</th>\n",
       "      <th>Transaction Source</th>\n",
       "      <th>IP Address</th>\n",
       "      <th>Device Information</th>\n",
       "      <th>User Account Information</th>\n",
       "      <th>Transaction Notes</th>\n",
       "    </tr>\n",
       "  </thead>\n",
       "  <tbody>\n",
       "    <tr>\n",
       "      <th>0</th>\n",
       "      <td>2022-09-24 13:54:27</td>\n",
       "      <td>285.88</td>\n",
       "      <td>Shray Soman</td>\n",
       "      <td>daca51bffe0fc4eaaa7c430917f94b75fd893712492254...</td>\n",
       "      <td>Rajagopalan, Ghose and Kant</td>\n",
       "      <td>3590</td>\n",
       "      <td>Khammam</td>\n",
       "      <td>INR</td>\n",
       "      <td>MasterCard</td>\n",
       "      <td>04/29</td>\n",
       "      <td>01299ac65733b5a3d774265fbfe8396b8611e5e3321855...</td>\n",
       "      <td>5</td>\n",
       "      <td>b7f69cbc-a03d-41f8-adca-75920b0242c3</td>\n",
       "      <td>1</td>\n",
       "      <td>None</td>\n",
       "      <td>Online</td>\n",
       "      <td>18.106.240.6</td>\n",
       "      <td>Tablet</td>\n",
       "      <td>NaN</td>\n",
       "      <td>Consequatur corporis minima ad vero deserunt n...</td>\n",
       "    </tr>\n",
       "    <tr>\n",
       "      <th>1</th>\n",
       "      <td>2020-07-24 11:20:13</td>\n",
       "      <td>1777.32</td>\n",
       "      <td>Lakshit Bakshi</td>\n",
       "      <td>d5366dd9be3a0266c0252baceaa6332210ed4dbd0ef252...</td>\n",
       "      <td>Sule PLC</td>\n",
       "      <td>7277</td>\n",
       "      <td>Vasai-Virar</td>\n",
       "      <td>EUR</td>\n",
       "      <td>American Express</td>\n",
       "      <td>03/26</td>\n",
       "      <td>ad8fa913d25b3970c6efa8ca504da8ba670ce2a9cf012d...</td>\n",
       "      <td>12</td>\n",
       "      <td>ad53cc8e-8412-422e-8cad-4176daac8387</td>\n",
       "      <td>1</td>\n",
       "      <td>None</td>\n",
       "      <td>Online</td>\n",
       "      <td>212.48.185.128</td>\n",
       "      <td>Mobile</td>\n",
       "      <td>jloyal</td>\n",
       "      <td>Dolore repellendus odio deleniti. Eaque quibus...</td>\n",
       "    </tr>\n",
       "    <tr>\n",
       "      <th>2</th>\n",
       "      <td>2023-03-18 01:05:36</td>\n",
       "      <td>3939.01</td>\n",
       "      <td>Riya Bobal</td>\n",
       "      <td>4737a6384aa1c3c31f7768b86633d6a8401dd6ab4a8ff1...</td>\n",
       "      <td>Badal PLC</td>\n",
       "      <td>9297</td>\n",
       "      <td>Nangloi Jat</td>\n",
       "      <td>USD</td>\n",
       "      <td>Visa</td>\n",
       "      <td>11/29</td>\n",
       "      <td>eb3be230bbd2844b1f5d8f2e4fab9ffba8ab22cfeeb69c...</td>\n",
       "      <td>5</td>\n",
       "      <td>f09cecd6-0d74-4551-8089-a31d64e6b9c5</td>\n",
       "      <td>1</td>\n",
       "      <td>3 or more</td>\n",
       "      <td>In-Person</td>\n",
       "      <td>17.190.112.46</td>\n",
       "      <td>Mobile</td>\n",
       "      <td>NaN</td>\n",
       "      <td>Unde beatae perspiciatis sapiente. Voluptates ...</td>\n",
       "    </tr>\n",
       "    <tr>\n",
       "      <th>3</th>\n",
       "      <td>2021-01-07 21:53:04</td>\n",
       "      <td>376.44</td>\n",
       "      <td>Mohanlal Balakrishnan</td>\n",
       "      <td>4721806eed8f2663bb597ff13e79a294de318358fbb54b...</td>\n",
       "      <td>Konda-Sodhi</td>\n",
       "      <td>5686</td>\n",
       "      <td>Ramagundam</td>\n",
       "      <td>USD</td>\n",
       "      <td>Visa</td>\n",
       "      <td>09/25</td>\n",
       "      <td>891d46993a36d78392247c642138cede01d9841daab1d9...</td>\n",
       "      <td>5</td>\n",
       "      <td>b208ae0b-4c4f-428f-b6b9-5360b288b947</td>\n",
       "      <td>0</td>\n",
       "      <td>2</td>\n",
       "      <td>In-Person</td>\n",
       "      <td>153.136.24.104</td>\n",
       "      <td>Tablet</td>\n",
       "      <td>NaN</td>\n",
       "      <td>Cupiditate repellendus necessitatibus quo occa...</td>\n",
       "    </tr>\n",
       "    <tr>\n",
       "      <th>4</th>\n",
       "      <td>2021-12-16 06:22:24</td>\n",
       "      <td>1687.33</td>\n",
       "      <td>Mannat Rout</td>\n",
       "      <td>9deacc3a9efd6e382826d400620aca5f23ed94327578e5...</td>\n",
       "      <td>Dua Ltd</td>\n",
       "      <td>2940</td>\n",
       "      <td>Adoni</td>\n",
       "      <td>INR</td>\n",
       "      <td>MasterCard</td>\n",
       "      <td>03/31</td>\n",
       "      <td>48a1a756f2d83f1dc57bbf14052b70a6f40d0fceed6662...</td>\n",
       "      <td>5</td>\n",
       "      <td>6b4e4e43-5b73-4906-9973-299a1b2a5e71</td>\n",
       "      <td>1</td>\n",
       "      <td>2</td>\n",
       "      <td>Online</td>\n",
       "      <td>196.153.28.131</td>\n",
       "      <td>Desktop</td>\n",
       "      <td>NaN</td>\n",
       "      <td>Molestias assumenda consectetur itaque veritat...</td>\n",
       "    </tr>\n",
       "  </tbody>\n",
       "</table>\n",
       "</div>"
      ],
      "text/plain": [
       "  Transaction Date and Time  Transaction Amount        Cardholder Name  \\\n",
       "0       2022-09-24 13:54:27              285.88            Shray Soman   \n",
       "1       2020-07-24 11:20:13             1777.32         Lakshit Bakshi   \n",
       "2       2023-03-18 01:05:36             3939.01             Riya Bobal   \n",
       "3       2021-01-07 21:53:04              376.44  Mohanlal Balakrishnan   \n",
       "4       2021-12-16 06:22:24             1687.33            Mannat Rout   \n",
       "\n",
       "                   Card Number (Hashed or Encrypted)  \\\n",
       "0  daca51bffe0fc4eaaa7c430917f94b75fd893712492254...   \n",
       "1  d5366dd9be3a0266c0252baceaa6332210ed4dbd0ef252...   \n",
       "2  4737a6384aa1c3c31f7768b86633d6a8401dd6ab4a8ff1...   \n",
       "3  4721806eed8f2663bb597ff13e79a294de318358fbb54b...   \n",
       "4  9deacc3a9efd6e382826d400620aca5f23ed94327578e5...   \n",
       "\n",
       "                 Merchant Name  Merchant Category Code (MCC)  \\\n",
       "0  Rajagopalan, Ghose and Kant                          3590   \n",
       "1                     Sule PLC                          7277   \n",
       "2                    Badal PLC                          9297   \n",
       "3                  Konda-Sodhi                          5686   \n",
       "4                      Dua Ltd                          2940   \n",
       "\n",
       "  Transaction Location (City or ZIP Code) Transaction Currency  \\\n",
       "0                                 Khammam                  INR   \n",
       "1                             Vasai-Virar                  EUR   \n",
       "2                             Nangloi Jat                  USD   \n",
       "3                              Ramagundam                  USD   \n",
       "4                                   Adoni                  INR   \n",
       "\n",
       "          Card Type Card Expiration Date  \\\n",
       "0        MasterCard                04/29   \n",
       "1  American Express                03/26   \n",
       "2              Visa                11/29   \n",
       "3              Visa                09/25   \n",
       "4        MasterCard                03/31   \n",
       "\n",
       "                      CVV Code (Hashed or Encrypted)  \\\n",
       "0  01299ac65733b5a3d774265fbfe8396b8611e5e3321855...   \n",
       "1  ad8fa913d25b3970c6efa8ca504da8ba670ce2a9cf012d...   \n",
       "2  eb3be230bbd2844b1f5d8f2e4fab9ffba8ab22cfeeb69c...   \n",
       "3  891d46993a36d78392247c642138cede01d9841daab1d9...   \n",
       "4  48a1a756f2d83f1dc57bbf14052b70a6f40d0fceed6662...   \n",
       "\n",
       "   Transaction Response Code                        Transaction ID  \\\n",
       "0                          5  b7f69cbc-a03d-41f8-adca-75920b0242c3   \n",
       "1                         12  ad53cc8e-8412-422e-8cad-4176daac8387   \n",
       "2                          5  f09cecd6-0d74-4551-8089-a31d64e6b9c5   \n",
       "3                          5  b208ae0b-4c4f-428f-b6b9-5360b288b947   \n",
       "4                          5  6b4e4e43-5b73-4906-9973-299a1b2a5e71   \n",
       "\n",
       "   Fraud Flag or Label Previous Transactions Transaction Source  \\\n",
       "0                    1                  None             Online   \n",
       "1                    1                  None             Online   \n",
       "2                    1             3 or more          In-Person   \n",
       "3                    0                     2          In-Person   \n",
       "4                    1                     2             Online   \n",
       "\n",
       "       IP Address Device Information User Account Information  \\\n",
       "0    18.106.240.6             Tablet                      NaN   \n",
       "1  212.48.185.128             Mobile                   jloyal   \n",
       "2   17.190.112.46             Mobile                      NaN   \n",
       "3  153.136.24.104             Tablet                      NaN   \n",
       "4  196.153.28.131            Desktop                      NaN   \n",
       "\n",
       "                                   Transaction Notes  \n",
       "0  Consequatur corporis minima ad vero deserunt n...  \n",
       "1  Dolore repellendus odio deleniti. Eaque quibus...  \n",
       "2  Unde beatae perspiciatis sapiente. Voluptates ...  \n",
       "3  Cupiditate repellendus necessitatibus quo occa...  \n",
       "4  Molestias assumenda consectetur itaque veritat...  "
      ]
     },
     "execution_count": 3,
     "metadata": {},
     "output_type": "execute_result"
    }
   ],
   "source": [
    "df = pd.read_csv('../data/credit_card_fraud.csv')\n",
    "print(df.shape)\n",
    "df.head()"
   ]
  },
  {
   "cell_type": "code",
   "execution_count": 4,
   "metadata": {},
   "outputs": [
    {
     "data": {
      "text/plain": [
       "datetime                  object\n",
       "amount                   float64\n",
       "merchant                  object\n",
       "mcc                        int64\n",
       "location                  object\n",
       "currency                  object\n",
       "card_type                 object\n",
       "card_exp_date             object\n",
       "response_code              int64\n",
       "flagged_as_fraud           int64\n",
       "previous_transactions     object\n",
       "source                    object\n",
       "device                    object\n",
       "dtype: object"
      ]
     },
     "execution_count": 4,
     "metadata": {},
     "output_type": "execute_result"
    }
   ],
   "source": [
    "# Dropping columns we won't use as they are either obfuscated or of little interest.\n",
    "df.drop(\n",
    "    columns=[\n",
    "        'Cardholder Name',\n",
    "        'Card Number (Hashed or Encrypted)',\n",
    "        'CVV Code (Hashed or Encrypted)',\n",
    "        'Transaction ID',\n",
    "        'IP Address',\n",
    "        'Transaction Notes',\n",
    "        'User Account Information' ],\n",
    "    inplace=True,\n",
    "    errors='ingore'\n",
    ")\n",
    "\n",
    "# Giving columns more concise names, allowing us to access via .notation\n",
    "df.rename(\n",
    "    columns={\n",
    "        'Transaction Date and Time'                 : 'datetime',\n",
    "        'Transaction Amount'                        : 'amount',\n",
    "#        'Cardholder Name'                           : 'cardholder',\n",
    "        'Merchant Name'                             : 'merchant',\n",
    "        'Merchant Category Code (MCC)'              : 'mcc',\n",
    "        'Transaction Location (City or ZIP Code)'   : 'location',\n",
    "        'Card Expiration Date'                      : 'exp_date',\n",
    "        'Transaction Currency'                      : 'currency',\n",
    "        'Card Type'                                 : 'card_type',\n",
    "        'Card Expiration Date'                      : 'card_exp_date',\n",
    "        'Transaction Response Code'                 : 'response_code',\n",
    "        'Fraud Flag or Label'                       : 'flagged_as_fraud',\n",
    "        'Previous Transactions'                     : 'previous_transactions',\n",
    "        'Transaction Source'                        : 'source',\n",
    "        'Device Information'                        : 'device',\n",
    "#        'User Account Information'                  : 'user_account'\n",
    "    }, inplace= True\n",
    ")\n",
    "df.dtypes"
   ]
  },
  {
   "cell_type": "markdown",
   "metadata": {},
   "source": [
    "# Issues:\n",
    "| Column                | Notes                        |\n",
    "| --------------------- | ---------------------------- |\n",
    "| datetime              | change to datetime           |\n",
    "| amount                |                              |\n",
    "| merchant              |                              |\n",
    "| mcc                   | codes, but no human meaning? |\n",
    "| location              | India city names?            |\n",
    "| currency              |                              |\n",
    "| card_type             |                              |\n",
    "| card_exp_date         | change to date type          |\n",
    "| response_code         | What are these?              |\n",
    "| flagged_as_fraud      | Should be boolean            |\n",
    "| previous_transactions |                              |\n",
    "| source                |                              |\n",
    "| device                |                              |"
   ]
  },
  {
   "cell_type": "code",
   "execution_count": 5,
   "metadata": {},
   "outputs": [
    {
     "data": {
      "text/html": [
       "<div>\n",
       "<style scoped>\n",
       "    .dataframe tbody tr th:only-of-type {\n",
       "        vertical-align: middle;\n",
       "    }\n",
       "\n",
       "    .dataframe tbody tr th {\n",
       "        vertical-align: top;\n",
       "    }\n",
       "\n",
       "    .dataframe thead th {\n",
       "        text-align: right;\n",
       "    }\n",
       "</style>\n",
       "<table border=\"1\" class=\"dataframe\">\n",
       "  <thead>\n",
       "    <tr style=\"text-align: right;\">\n",
       "      <th></th>\n",
       "      <th>datetime</th>\n",
       "      <th>amount</th>\n",
       "      <th>mcc</th>\n",
       "      <th>response_code</th>\n",
       "      <th>flagged_as_fraud</th>\n",
       "    </tr>\n",
       "  </thead>\n",
       "  <tbody>\n",
       "    <tr>\n",
       "      <th>count</th>\n",
       "      <td>8000</td>\n",
       "      <td>8000.000000</td>\n",
       "      <td>8000.000000</td>\n",
       "      <td>8000.000000</td>\n",
       "      <td>8000.000000</td>\n",
       "    </tr>\n",
       "    <tr>\n",
       "      <th>mean</th>\n",
       "      <td>2021-11-20 18:36:54.740499968</td>\n",
       "      <td>2496.356036</td>\n",
       "      <td>5484.150375</td>\n",
       "      <td>5.637500</td>\n",
       "      <td>0.498625</td>\n",
       "    </tr>\n",
       "    <tr>\n",
       "      <th>min</th>\n",
       "      <td>2020-01-01 01:34:45</td>\n",
       "      <td>1.090000</td>\n",
       "      <td>1000.000000</td>\n",
       "      <td>0.000000</td>\n",
       "      <td>0.000000</td>\n",
       "    </tr>\n",
       "    <tr>\n",
       "      <th>25%</th>\n",
       "      <td>2020-12-11 15:54:12.500000</td>\n",
       "      <td>1242.580000</td>\n",
       "      <td>3230.750000</td>\n",
       "      <td>0.000000</td>\n",
       "      <td>0.000000</td>\n",
       "    </tr>\n",
       "    <tr>\n",
       "      <th>50%</th>\n",
       "      <td>2021-11-20 15:22:42.500000</td>\n",
       "      <td>2492.460000</td>\n",
       "      <td>5455.000000</td>\n",
       "      <td>5.000000</td>\n",
       "      <td>0.000000</td>\n",
       "    </tr>\n",
       "    <tr>\n",
       "      <th>75%</th>\n",
       "      <td>2022-10-27 20:44:30.750000128</td>\n",
       "      <td>3739.522500</td>\n",
       "      <td>7761.000000</td>\n",
       "      <td>12.000000</td>\n",
       "      <td>1.000000</td>\n",
       "    </tr>\n",
       "    <tr>\n",
       "      <th>max</th>\n",
       "      <td>2023-10-11 18:01:01</td>\n",
       "      <td>4996.700000</td>\n",
       "      <td>9999.000000</td>\n",
       "      <td>12.000000</td>\n",
       "      <td>1.000000</td>\n",
       "    </tr>\n",
       "    <tr>\n",
       "      <th>std</th>\n",
       "      <td>NaN</td>\n",
       "      <td>1451.221326</td>\n",
       "      <td>2608.164617</td>\n",
       "      <td>4.928147</td>\n",
       "      <td>0.500029</td>\n",
       "    </tr>\n",
       "  </tbody>\n",
       "</table>\n",
       "</div>"
      ],
      "text/plain": [
       "                            datetime       amount          mcc  response_code  \\\n",
       "count                           8000  8000.000000  8000.000000    8000.000000   \n",
       "mean   2021-11-20 18:36:54.740499968  2496.356036  5484.150375       5.637500   \n",
       "min              2020-01-01 01:34:45     1.090000  1000.000000       0.000000   \n",
       "25%       2020-12-11 15:54:12.500000  1242.580000  3230.750000       0.000000   \n",
       "50%       2021-11-20 15:22:42.500000  2492.460000  5455.000000       5.000000   \n",
       "75%    2022-10-27 20:44:30.750000128  3739.522500  7761.000000      12.000000   \n",
       "max              2023-10-11 18:01:01  4996.700000  9999.000000      12.000000   \n",
       "std                              NaN  1451.221326  2608.164617       4.928147   \n",
       "\n",
       "       flagged_as_fraud  \n",
       "count       8000.000000  \n",
       "mean           0.498625  \n",
       "min            0.000000  \n",
       "25%            0.000000  \n",
       "50%            0.000000  \n",
       "75%            1.000000  \n",
       "max            1.000000  \n",
       "std            0.500029  "
      ]
     },
     "execution_count": 5,
     "metadata": {},
     "output_type": "execute_result"
    }
   ],
   "source": [
    "df['datetime'] = pd.to_datetime(df['datetime'])\n",
    "\n",
    "df.describe()"
   ]
  },
  {
   "cell_type": "code",
   "execution_count": 6,
   "metadata": {},
   "outputs": [
    {
     "data": {
      "text/plain": [
       "location\n",
       "Ghaziabad     53\n",
       "Aurangabad    51\n",
       "Darbhanga     39\n",
       "Bettiah       38\n",
       "Malda         37\n",
       "              ..\n",
       "Hosur         15\n",
       "Kumbakonam    15\n",
       "Sagar         15\n",
       "Rampur        13\n",
       "Jaunpur       11\n",
       "Name: count, Length: 316, dtype: int64"
      ]
     },
     "execution_count": 6,
     "metadata": {},
     "output_type": "execute_result"
    }
   ],
   "source": [
    "df['location'].value_counts()"
   ]
  },
  {
   "cell_type": "code",
   "execution_count": 7,
   "metadata": {},
   "outputs": [
    {
     "data": {
      "text/plain": [
       "flagged_as_fraud\n",
       "0    4011\n",
       "1    3989\n",
       "Name: count, dtype: int64"
      ]
     },
     "execution_count": 7,
     "metadata": {},
     "output_type": "execute_result"
    }
   ],
   "source": [
    "df['flagged_as_fraud'].value_counts()\n",
    "# Good distribution for machine learning"
   ]
  },
  {
   "cell_type": "code",
   "execution_count": 8,
   "metadata": {},
   "outputs": [
    {
     "data": {
      "text/plain": [
       "mcc\n",
       "4312    1\n",
       "4443    1\n",
       "2547    1\n",
       "6193    1\n",
       "2228    1\n",
       "       ..\n",
       "7715    1\n",
       "1418    1\n",
       "3638    1\n",
       "2543    1\n",
       "2902    1\n",
       "Name: count, Length: 3316, dtype: int64"
      ]
     },
     "execution_count": 8,
     "metadata": {},
     "output_type": "execute_result"
    }
   ],
   "source": [
    "mcccounts = df['mcc'].value_counts()\n",
    "mcccounts.loc[mcccounts ==1]\n",
    "\n"
   ]
  },
  {
   "cell_type": "code",
   "execution_count": 9,
   "metadata": {},
   "outputs": [],
   "source": [
    "df['flagged_as_fraud'] = df['flagged_as_fraud'].astype('bool')"
   ]
  },
  {
   "cell_type": "code",
   "execution_count": 10,
   "metadata": {},
   "outputs": [
    {
     "data": {
      "text/plain": [
       "0        True\n",
       "1        True\n",
       "2        True\n",
       "3       False\n",
       "4        True\n",
       "        ...  \n",
       "7995    False\n",
       "7996     True\n",
       "7997     True\n",
       "7998     True\n",
       "7999    False\n",
       "Name: flagged_as_fraud, Length: 8000, dtype: bool"
      ]
     },
     "execution_count": 10,
     "metadata": {},
     "output_type": "execute_result"
    }
   ],
   "source": [
    "df['flagged_as_fraud']"
   ]
  },
  {
   "cell_type": "code",
   "execution_count": 11,
   "metadata": {},
   "outputs": [
    {
     "data": {
      "text/plain": [
       "card_type\n",
       "Visa                2682\n",
       "American Express    2663\n",
       "MasterCard          2655\n",
       "Name: count, dtype: int64"
      ]
     },
     "execution_count": 11,
     "metadata": {},
     "output_type": "execute_result"
    }
   ],
   "source": [
    "df['card_type'].value_counts()"
   ]
  },
  {
   "cell_type": "code",
   "execution_count": 12,
   "metadata": {},
   "outputs": [],
   "source": [
    "#df['card_type'] = df['card_type'].replace({'Visa':1, 'American Express':2, 'MasterCard':3})"
   ]
  },
  {
   "cell_type": "code",
   "execution_count": 13,
   "metadata": {},
   "outputs": [
    {
     "data": {
      "text/plain": [
       "device\n",
       "Desktop    2745\n",
       "Tablet     2667\n",
       "Mobile     2588\n",
       "Name: count, dtype: int64"
      ]
     },
     "execution_count": 13,
     "metadata": {},
     "output_type": "execute_result"
    }
   ],
   "source": [
    "#df['device'] = df['device'].replace({'Desktop':1, 'Tablet':2, 'Mobile':3})\n",
    "df['device'].value_counts()"
   ]
  },
  {
   "cell_type": "code",
   "execution_count": 14,
   "metadata": {},
   "outputs": [
    {
     "data": {
      "text/plain": [
       "source\n",
       "In-Person    4112\n",
       "Online       3888\n",
       "Name: count, dtype: int64"
      ]
     },
     "execution_count": 14,
     "metadata": {},
     "output_type": "execute_result"
    }
   ],
   "source": [
    "df['source'].value_counts()"
   ]
  },
  {
   "cell_type": "code",
   "execution_count": 15,
   "metadata": {},
   "outputs": [
    {
     "data": {
      "text/plain": [
       "previous_transactions\n",
       "0    2043\n",
       "1    2031\n",
       "3    1968\n",
       "2    1958\n",
       "Name: count, dtype: int64"
      ]
     },
     "execution_count": 15,
     "metadata": {},
     "output_type": "execute_result"
    }
   ],
   "source": [
    "\n",
    "df['previous_transactions'] = df['previous_transactions'].replace({None:0,'1':1,'2':2,'3 or more':3})\n",
    "df['previous_transactions'].value_counts()"
   ]
  },
  {
   "cell_type": "code",
   "execution_count": 16,
   "metadata": {},
   "outputs": [
    {
     "data": {
      "text/plain": [
       "currency\n",
       "INR    2713\n",
       "USD    2645\n",
       "EUR    2642\n",
       "Name: count, dtype: int64"
      ]
     },
     "execution_count": 16,
     "metadata": {},
     "output_type": "execute_result"
    }
   ],
   "source": [
    "#df['currency'] = df['currency'].replace({'INR':1,'USD':2,'EUR':3})\n",
    "df['currency'].value_counts()"
   ]
  },
  {
   "cell_type": "code",
   "execution_count": 17,
   "metadata": {},
   "outputs": [
    {
     "data": {
      "text/plain": [
       "datetime                 datetime64[ns]\n",
       "amount                          float64\n",
       "merchant                         object\n",
       "mcc                               int64\n",
       "location                         object\n",
       "currency                         object\n",
       "card_type                        object\n",
       "card_exp_date                    object\n",
       "response_code                     int64\n",
       "flagged_as_fraud                   bool\n",
       "previous_transactions             int64\n",
       "source                           object\n",
       "device                           object\n",
       "dtype: object"
      ]
     },
     "execution_count": 17,
     "metadata": {},
     "output_type": "execute_result"
    }
   ],
   "source": [
    "df.dtypes"
   ]
  },
  {
   "cell_type": "code",
   "execution_count": 18,
   "metadata": {},
   "outputs": [
    {
     "data": {
      "text/html": [
       "<div>\n",
       "<style scoped>\n",
       "    .dataframe tbody tr th:only-of-type {\n",
       "        vertical-align: middle;\n",
       "    }\n",
       "\n",
       "    .dataframe tbody tr th {\n",
       "        vertical-align: top;\n",
       "    }\n",
       "\n",
       "    .dataframe thead th {\n",
       "        text-align: right;\n",
       "    }\n",
       "</style>\n",
       "<table border=\"1\" class=\"dataframe\">\n",
       "  <thead>\n",
       "    <tr style=\"text-align: right;\">\n",
       "      <th></th>\n",
       "      <th>Business type</th>\n",
       "      <th>start</th>\n",
       "      <th>end</th>\n",
       "    </tr>\n",
       "  </thead>\n",
       "  <tbody>\n",
       "    <tr>\n",
       "      <th>0</th>\n",
       "      <td>Agricultural services</td>\n",
       "      <td>1</td>\n",
       "      <td>1499</td>\n",
       "    </tr>\n",
       "    <tr>\n",
       "      <th>1</th>\n",
       "      <td>Contracted services</td>\n",
       "      <td>1500</td>\n",
       "      <td>2999</td>\n",
       "    </tr>\n",
       "    <tr>\n",
       "      <th>2</th>\n",
       "      <td>Transportation services</td>\n",
       "      <td>4000</td>\n",
       "      <td>4799</td>\n",
       "    </tr>\n",
       "  </tbody>\n",
       "</table>\n",
       "</div>"
      ],
      "text/plain": [
       "             Business type  start   end\n",
       "0    Agricultural services      1  1499\n",
       "1      Contracted services   1500  2999\n",
       "2  Transportation services   4000  4799"
      ]
     },
     "execution_count": 18,
     "metadata": {},
     "output_type": "execute_result"
    }
   ],
   "source": [
    "#read grouped mcc data to combine it with credit card data\n",
    "mccdf = pd.read_csv('../data/mcc_grouped.csv')\n",
    "mccdf.head(3)"
   ]
  },
  {
   "cell_type": "code",
   "execution_count": 19,
   "metadata": {},
   "outputs": [],
   "source": [
    "#custom function to take the corresponding value from mccdf to df\n",
    "def get_name(row):\n",
    "    matching_row = mccdf[(mccdf['start'] <= row['mcc']) & (row['mcc'] <= mccdf['end'])]\n",
    "    if not matching_row.empty:\n",
    "        return matching_row['Business type'].iloc[0]\n",
    "\n",
    "# Apply the custom function to create a new column in df\n",
    "df['mccgroup'] = df.apply(get_name, axis=1)\n",
    "\n"
   ]
  },
  {
   "cell_type": "code",
   "execution_count": 20,
   "metadata": {},
   "outputs": [
    {
     "data": {
      "text/plain": [
       "mccgroup\n",
       "Miscellaneous stores                                  1418\n",
       "Contracted services                                   1309\n",
       "Unknown                                                918\n",
       "Government services                                    912\n",
       "Professional services and membership organizations     856\n",
       "Transportation services                                714\n",
       "Business services                                      607\n",
       "Retail outlet services                                 548\n",
       "Agricultural services                                  472\n",
       "Utility services                                       166\n",
       "Clothing stores                                         80\n",
       "Name: count, dtype: int64"
      ]
     },
     "execution_count": 20,
     "metadata": {},
     "output_type": "execute_result"
    }
   ],
   "source": [
    "df.mccgroup.fillna('Unknown', inplace=True)\n",
    "df['mccgroup'].value_counts()"
   ]
  },
  {
   "cell_type": "code",
   "execution_count": 21,
   "metadata": {},
   "outputs": [
    {
     "name": "stdout",
     "output_type": "stream",
     "text": [
      "<class 'pandas.core.frame.DataFrame'>\n",
      "RangeIndex: 8000 entries, 0 to 7999\n",
      "Data columns (total 14 columns):\n",
      " #   Column                 Non-Null Count  Dtype         \n",
      "---  ------                 --------------  -----         \n",
      " 0   datetime               8000 non-null   datetime64[ns]\n",
      " 1   amount                 8000 non-null   float64       \n",
      " 2   merchant               8000 non-null   object        \n",
      " 3   mcc                    8000 non-null   int64         \n",
      " 4   location               8000 non-null   object        \n",
      " 5   currency               8000 non-null   object        \n",
      " 6   card_type              8000 non-null   object        \n",
      " 7   card_exp_date          8000 non-null   object        \n",
      " 8   response_code          8000 non-null   int64         \n",
      " 9   flagged_as_fraud       8000 non-null   bool          \n",
      " 10  previous_transactions  8000 non-null   int64         \n",
      " 11  source                 8000 non-null   object        \n",
      " 12  device                 8000 non-null   object        \n",
      " 13  mccgroup               8000 non-null   object        \n",
      "dtypes: bool(1), datetime64[ns](1), float64(1), int64(3), object(8)\n",
      "memory usage: 820.4+ KB\n"
     ]
    }
   ],
   "source": [
    "df.info()"
   ]
  },
  {
   "cell_type": "code",
   "execution_count": 22,
   "metadata": {},
   "outputs": [
    {
     "data": {
      "text/plain": [
       "0       04/29\n",
       "1       03/26\n",
       "2       11/29\n",
       "3       09/25\n",
       "4       03/31\n",
       "        ...  \n",
       "7995    04/26\n",
       "7996    11/25\n",
       "7997    05/24\n",
       "7998    09/24\n",
       "7999    02/24\n",
       "Name: card_exp_date, Length: 8000, dtype: object"
      ]
     },
     "execution_count": 22,
     "metadata": {},
     "output_type": "execute_result"
    }
   ],
   "source": [
    "df['card_exp_date']"
   ]
  },
  {
   "cell_type": "code",
   "execution_count": 23,
   "metadata": {},
   "outputs": [
    {
     "data": {
      "text/plain": [
       "0      2029-04-01\n",
       "1      2026-03-01\n",
       "2      2029-11-01\n",
       "3      2025-09-01\n",
       "4      2031-03-01\n",
       "          ...    \n",
       "7995   2026-04-01\n",
       "7996   2025-11-01\n",
       "7997   2024-05-01\n",
       "7998   2024-09-01\n",
       "7999   2024-02-01\n",
       "Name: card_exp_date, Length: 8000, dtype: datetime64[ns]"
      ]
     },
     "execution_count": 23,
     "metadata": {},
     "output_type": "execute_result"
    }
   ],
   "source": [
    "# import additional library\n",
    "from datetime import datetime\n",
    "\n",
    "# Convert the 'date_column' to datetime format\n",
    "df['card_exp_date'] = df['card_exp_date'].apply(lambda x: datetime.strptime(x, \"%m/%y\"))\n",
    "\n",
    "# Display the resulting DataFrame\n",
    "df['card_exp_date']"
   ]
  },
  {
   "cell_type": "code",
   "execution_count": 29,
   "metadata": {},
   "outputs": [
    {
     "name": "stdout",
     "output_type": "stream",
     "text": [
      "Analysis for 'merchant':\n",
      "merchant\n",
      "Acharya PLC                    0.0\n",
      "Acharya, Bora and Sani         0.0\n",
      "Acharya, Chandra and Shan      1.0\n",
      "Acharya, Char and Rajan        0.0\n",
      "Acharya, Deshpande and Anne    0.0\n",
      "                              ... \n",
      "Zachariah-Gupta                0.0\n",
      "Zachariah-Kala                 0.0\n",
      "Zachariah-Mall                 0.0\n",
      "Zachariah-Ramanathan           1.0\n",
      "Zachariah-Vyas                 0.0\n",
      "Name: flagged_as_fraud, Length: 7027, dtype: float64\n"
     ]
    },
    {
     "data": {
      "image/png": "[encoded data removed]",
      "text/plain": [
       "<Figure size 800x600 with 1 Axes>"
      ]
     },
     "metadata": {},
     "output_type": "display_data"
    },
    {
     "name": "stdout",
     "output_type": "stream",
     "text": [
      "\n",
      "----------------------------------------\n",
      "\n",
      "Analysis for 'location':\n",
      "location\n",
      "Adoni            0.535714\n",
      "Agartala         0.333333\n",
      "Agra             0.409091\n",
      "Ahmedabad        0.566667\n",
      "Ahmednagar       0.448276\n",
      "                   ...   \n",
      "Vijayanagaram    0.500000\n",
      "Vijayawada       0.542857\n",
      "Visakhapatnam    0.434783\n",
      "Warangal         0.611111\n",
      "Yamunanagar      0.481481\n",
      "Name: flagged_as_fraud, Length: 316, dtype: float64\n"
     ]
    },
    {
     "data": {
      "image/png": "[encoded data removed]",
      "text/plain": [
       "<Figure size 800x600 with 1 Axes>"
      ]
     },
     "metadata": {},
     "output_type": "display_data"
    },
    {
     "name": "stdout",
     "output_type": "stream",
     "text": [
      "\n",
      "----------------------------------------\n",
      "\n",
      "Analysis for 'currency':\n",
      "currency\n",
      "EUR    0.502650\n",
      "INR    0.495024\n",
      "USD    0.498299\n",
      "Name: flagged_as_fraud, dtype: float64\n"
     ]
    },
    {
     "data": {
      "image/png": "[encoded data removed]",
      "text/plain": [
       "<Figure size 800x600 with 1 Axes>"
      ]
     },
     "metadata": {},
     "output_type": "display_data"
    },
    {
     "name": "stdout",
     "output_type": "stream",
     "text": [
      "\n",
      "----------------------------------------\n",
      "\n",
      "Analysis for 'card_type':\n",
      "card_type\n",
      "American Express    0.493053\n",
      "MasterCard          0.490772\n",
      "Visa                0.511931\n",
      "Name: flagged_as_fraud, dtype: float64\n"
     ]
    },
    {
     "data": {
      "image/png": "[encoded data removed]",
      "text/plain": [
       "<Figure size 800x600 with 1 Axes>"
      ]
     },
     "metadata": {},
     "output_type": "display_data"
    },
    {
     "name": "stdout",
     "output_type": "stream",
     "text": [
      "\n",
      "----------------------------------------\n",
      "\n",
      "Analysis for 'source':\n",
      "source\n",
      "In-Person    0.492218\n",
      "Online       0.505401\n",
      "Name: flagged_as_fraud, dtype: float64\n"
     ]
    },
    {
     "data": {
      "image/png": "[encoded data removed]",
      "text/plain": [
       "<Figure size 800x600 with 1 Axes>"
      ]
     },
     "metadata": {},
     "output_type": "display_data"
    },
    {
     "name": "stdout",
     "output_type": "stream",
     "text": [
      "\n",
      "----------------------------------------\n",
      "\n",
      "Analysis for 'device':\n",
      "device\n",
      "Desktop    0.491439\n",
      "Mobile     0.513910\n",
      "Tablet     0.491189\n",
      "Name: flagged_as_fraud, dtype: float64\n"
     ]
    },
    {
     "data": {
      "image/png": "[encoded data removed]",
      "text/plain": [
       "<Figure size 800x600 with 1 Axes>"
      ]
     },
     "metadata": {},
     "output_type": "display_data"
    },
    {
     "name": "stdout",
     "output_type": "stream",
     "text": [
      "\n",
      "----------------------------------------\n",
      "\n",
      "Analysis for 'mccgroup':\n",
      "mccgroup\n",
      "Agricultural services                                 0.459746\n",
      "Business services                                     0.515651\n",
      "Clothing stores                                       0.550000\n",
      "Contracted services                                   0.495798\n",
      "Government services                                   0.520833\n",
      "Miscellaneous stores                                  0.474612\n",
      "Professional services and membership organizations    0.496495\n",
      "Retail outlet services                                0.512774\n",
      "Transportation services                               0.521008\n",
      "Unknown                                               0.506536\n",
      "Utility services                                      0.451807\n",
      "Name: flagged_as_fraud, dtype: float64\n"
     ]
    },
    {
     "data": {
      "image/png": "[encoded data removed]",
      "text/plain": [
       "<Figure size 800x600 with 1 Axes>"
      ]
     },
     "metadata": {},
     "output_type": "display_data"
    },
    {
     "name": "stdout",
     "output_type": "stream",
     "text": [
      "\n",
      "----------------------------------------\n",
      "\n"
     ]
    }
   ],
   "source": [
    "# List of string columns\n",
    "string_columns = df.select_dtypes(include='object').columns\n",
    "\n",
    "# Loop over each string column\n",
    "for column in string_columns:\n",
    "    print(f\"Analysis for '{column}':\")\n",
    "    \n",
    "    # Calculate mean target value for each unique value in the string column\n",
    "    result = df.groupby(column)['flagged_as_fraud'].mean()\n",
    "    print(result)\n",
    "\n",
    "    # Plot a count plot\n",
    "    plt.figure(figsize=(8, 6))\n",
    "    sns.countplot(x=column, hue='flagged_as_fraud', data=df)\n",
    "    plt.title(f'Count Plot for {column}')\n",
    "    plt.show()\n",
    "\n",
    "    print('\\n' + '-'*40 + '\\n')"
   ]
  },
  {
   "cell_type": "code",
   "execution_count": null,
   "metadata": {},
   "outputs": [],
   "source": []
  },
  {
   "cell_type": "code",
   "execution_count": null,
   "metadata": {},
   "outputs": [],
   "source": []
  },
  {
   "cell_type": "code",
   "execution_count": null,
   "metadata": {},
   "outputs": [],
   "source": []
  }
 ],
 "metadata": {
  "kernelspec": {
   "display_name": "Python 3 (ipykernel)",
   "language": "python",
   "name": "python3"
  },
  "language_info": {
   "codemirror_mode": {
    "name": "ipython",
    "version": 3
   },
   "file_extension": ".py",
   "mimetype": "text/x-python",
   "name": "python",
   "nbconvert_exporter": "python",
   "pygments_lexer": "ipython3",
   "version": "3.11.4"
  }
 },
 "nbformat": 4,
 "nbformat_minor": 2
}
