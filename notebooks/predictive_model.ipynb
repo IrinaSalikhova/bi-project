{
 "cells": [
  {
   "cell_type": "code",
   "execution_count": 775,
   "metadata": {},
   "outputs": [],
   "source": [
    "import pandas as pd\n",
    "import numpy as np\n",
    "import seaborn as sns\n",
    "import matplotlib.pyplot as plt\n",
    "%matplotlib inline\n",
    "import warnings\n",
    "warnings.filterwarnings(\"ignore\")\n",
    "\n",
    "df = pd.read_csv('../data/cleaned.csv')\n",
    "df = pd.get_dummies(df.drop(columns=['datetime', 'card_exp_date', 'merchant', 'location']))"
   ]
  },
  {
   "cell_type": "code",
   "execution_count": 776,
   "metadata": {},
   "outputs": [],
   "source": [
    "X = df[[\n",
    "    'amount',\n",
    "    'previous_transactions',\n",
    "    'currency_EUR', \n",
    "    'currency_INR', \n",
    "    'currency_USD', \n",
    "    'response_code_Accepted', \n",
    "    'response_code_Declined', \n",
    "    'response_code_Invalid',\n",
    "    'source_In-Person', \n",
    "    'source_Online', \n",
    "    'device_Desktop', \n",
    "    'device_Mobile',\n",
    "    'device_Tablet' \n",
    "]]\n",
    "\n",
    "y = df['flagged_as_fraud']"
   ]
  },
  {
   "cell_type": "code",
   "execution_count": 777,
   "metadata": {},
   "outputs": [],
   "source": [
    "from sklearn.model_selection import train_test_split\n",
    "\n",
    "xtrain, xtest, ytrain, ytest = train_test_split(X, y, test_size=0.20)"
   ]
  },
  {
   "cell_type": "code",
   "execution_count": 778,
   "metadata": {},
   "outputs": [],
   "source": [
    "from sklearn.linear_model import LogisticRegression\n",
    "model = LogisticRegression().fit(xtrain,ytrain)\n",
    "from sklearn.metrics import accuracy_score, confusion_matrix\n",
    "\n",
    "model = LogisticRegression().fit(xtrain,ytrain)\n"
   ]
  },
  {
   "cell_type": "code",
   "execution_count": 779,
   "metadata": {},
   "outputs": [
    {
     "name": "stdout",
     "output_type": "stream",
     "text": [
      "Accuracy Score:  0.50375\n"
     ]
    }
   ],
   "source": [
    "test_prediction = model.predict(xtest)\n",
    "\n",
    "print('Accuracy Score: ', accuracy_score(ytest, test_prediction))"
   ]
  },
  {
   "cell_type": "code",
   "execution_count": 780,
   "metadata": {},
   "outputs": [
    {
     "name": "stdout",
     "output_type": "stream",
     "text": [
      "Confusion Matrix:\n"
     ]
    },
    {
     "data": {
      "text/plain": [
       "array([[437, 370],\n",
       "       [424, 369]])"
      ]
     },
     "execution_count": 780,
     "metadata": {},
     "output_type": "execute_result"
    }
   ],
   "source": [
    "print('Confusion Matrix:')\n",
    "print(confusion_matrix(ytest, test_prediction))"
   ]
  },
  {
   "cell_type": "code",
   "execution_count": 781,
   "metadata": {},
   "outputs": [
    {
     "name": "stdout",
     "output_type": "stream",
     "text": [
      "Accuracy: 0.493125\n",
      "\n",
      "Classification Report:\n",
      "              precision    recall  f1-score   support\n",
      "\n",
      "       False       0.50      0.49      0.50       807\n",
      "        True       0.49      0.49      0.49       793\n",
      "\n",
      "    accuracy                           0.49      1600\n",
      "   macro avg       0.49      0.49      0.49      1600\n",
      "weighted avg       0.49      0.49      0.49      1600\n",
      "\n"
     ]
    }
   ],
   "source": [
    "from sklearn.ensemble import RandomForestClassifier\n",
    "from sklearn.metrics import accuracy_score, classification_report\n",
    "\n",
    "rf_classifier = RandomForestClassifier(\n",
    "    n_estimators=100, \n",
    "    max_features='auto', \n",
    "    min_samples_leaf=10\n",
    ").fit(xtrain, ytrain)\n",
    "\n",
    "ypred = rf_classifier.predict(xtest)\n",
    "\n",
    "accuracy = accuracy_score(ytest, ypred)\n",
    "print(f\"Accuracy: {accuracy}\")\n",
    "\n",
    "print(\"\\nClassification Report:\")\n",
    "print(classification_report(ytest, ypred))"
   ]
  }
 ],
 "metadata": {
  "kernelspec": {
   "display_name": "base",
   "language": "python",
   "name": "python3"
  },
  "language_info": {
   "codemirror_mode": {
    "name": "ipython",
    "version": 3
   },
   "file_extension": ".py",
   "mimetype": "text/x-python",
   "name": "python",
   "nbconvert_exporter": "python",
   "pygments_lexer": "ipython3",
   "version": "3.10.12"
  }
 },
 "nbformat": 4,
 "nbformat_minor": 2
}
